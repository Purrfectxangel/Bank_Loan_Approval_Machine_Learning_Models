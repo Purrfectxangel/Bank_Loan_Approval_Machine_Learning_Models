{
 "cells": [
  {
   "cell_type": "markdown",
   "id": "856a9078",
   "metadata": {
    "tags": []
   },
   "source": [
    "# MIS 637 - Final Project (Group 3)"
   ]
  },
  {
   "cell_type": "code",
   "execution_count": null,
   "id": "26624ecf",
   "metadata": {},
   "outputs": [],
   "source": []
  },
  {
   "cell_type": "code",
   "execution_count": 1,
   "id": "704d8627",
   "metadata": {},
   "outputs": [],
   "source": [
    "################################\n",
    "# Import the libraries\n",
    "################################\n",
    "\n",
    "import pandas as pd\n",
    "import numpy as np\n",
    "import seaborn as sns\n",
    "import matplotlib.pyplot as plt\n",
    "import plotly.express as px\n",
    "from sklearn.linear_model import LogisticRegression\n",
    "from sklearn.model_selection import train_test_split\n",
    "from sklearn.metrics import accuracy_score\n",
    "from scipy.stats import f_oneway\n",
    "from sklearn.metrics import classification_report,precision_score, recall_score,f1_score\n",
    "\n"
   ]
  },
  {
   "cell_type": "markdown",
   "id": "3c43ac87-c5d0-42ab-a991-08a7ac56aac3",
   "metadata": {},
   "source": [
    "# Data Understanding"
   ]
  },
  {
   "cell_type": "code",
   "execution_count": null,
   "id": "e450b775",
   "metadata": {},
   "outputs": [],
   "source": [
    "# Loan_ID\t\t\t\t\tUnique Loan ID\n",
    "# Gender\t\t\t\t\tMale/ Female\n",
    "# Married\t\t\t\t\tApplicant married (Y/N)\n",
    "# Dependents\t\t\t\tNumber of dependents\n",
    "# Education\t\t\t\t\tApplicant Education (Graduate/ Under Graduate)\n",
    "# Self_Employed\t\t\t\tSelf employed (Y/N)\n",
    "# ApplicantIncome\t\t\tApplicant income\n",
    "# CoapplicantIncome\t\t\tCoapplicant income\n",
    "# LoanAmount\t\t\t\tLoan amount in thousands\n",
    "# Loan_Amount_Term\t\t\tTerm of loan in months\n",
    "# Credit_History\t\t\t(1- has all debts paid, 0- not paid)\n",
    "# Property_Area\t\t\t\tUrban/ Semi Urban/ Rural\n",
    "# Loan_Status\t\t\t\t(Target) Loan approved (Y/N)\n"
   ]
  },
  {
   "cell_type": "code",
   "execution_count": 2,
   "id": "546bb2bb",
   "metadata": {
    "scrolled": true,
    "tags": []
   },
   "outputs": [
    {
     "data": {
      "text/html": [
       "<div>\n",
       "<style scoped>\n",
       "    .dataframe tbody tr th:only-of-type {\n",
       "        vertical-align: middle;\n",
       "    }\n",
       "\n",
       "    .dataframe tbody tr th {\n",
       "        vertical-align: top;\n",
       "    }\n",
       "\n",
       "    .dataframe thead th {\n",
       "        text-align: right;\n",
       "    }\n",
       "</style>\n",
       "<table border=\"1\" class=\"dataframe\">\n",
       "  <thead>\n",
       "    <tr style=\"text-align: right;\">\n",
       "      <th></th>\n",
       "      <th>Loan_ID</th>\n",
       "      <th>Gender</th>\n",
       "      <th>Married</th>\n",
       "      <th>Dependents</th>\n",
       "      <th>Education</th>\n",
       "      <th>Self_Employed</th>\n",
       "      <th>ApplicantIncome</th>\n",
       "      <th>CoapplicantIncome</th>\n",
       "      <th>LoanAmount</th>\n",
       "      <th>Loan_Amount_Term</th>\n",
       "      <th>Credit_History</th>\n",
       "      <th>Property_Area</th>\n",
       "      <th>Loan_Status</th>\n",
       "    </tr>\n",
       "  </thead>\n",
       "  <tbody>\n",
       "    <tr>\n",
       "      <th>0</th>\n",
       "      <td>LP001002</td>\n",
       "      <td>Male</td>\n",
       "      <td>No</td>\n",
       "      <td>0</td>\n",
       "      <td>Graduate</td>\n",
       "      <td>No</td>\n",
       "      <td>5849</td>\n",
       "      <td>0.0</td>\n",
       "      <td>NaN</td>\n",
       "      <td>360.0</td>\n",
       "      <td>1.0</td>\n",
       "      <td>Urban</td>\n",
       "      <td>Y</td>\n",
       "    </tr>\n",
       "    <tr>\n",
       "      <th>1</th>\n",
       "      <td>LP001003</td>\n",
       "      <td>Male</td>\n",
       "      <td>Yes</td>\n",
       "      <td>1</td>\n",
       "      <td>Graduate</td>\n",
       "      <td>No</td>\n",
       "      <td>4583</td>\n",
       "      <td>1508.0</td>\n",
       "      <td>128.0</td>\n",
       "      <td>360.0</td>\n",
       "      <td>1.0</td>\n",
       "      <td>Rural</td>\n",
       "      <td>N</td>\n",
       "    </tr>\n",
       "    <tr>\n",
       "      <th>2</th>\n",
       "      <td>LP001005</td>\n",
       "      <td>Male</td>\n",
       "      <td>Yes</td>\n",
       "      <td>0</td>\n",
       "      <td>Graduate</td>\n",
       "      <td>Yes</td>\n",
       "      <td>3000</td>\n",
       "      <td>0.0</td>\n",
       "      <td>66.0</td>\n",
       "      <td>360.0</td>\n",
       "      <td>1.0</td>\n",
       "      <td>Urban</td>\n",
       "      <td>Y</td>\n",
       "    </tr>\n",
       "    <tr>\n",
       "      <th>3</th>\n",
       "      <td>LP001006</td>\n",
       "      <td>Male</td>\n",
       "      <td>Yes</td>\n",
       "      <td>0</td>\n",
       "      <td>Not Graduate</td>\n",
       "      <td>No</td>\n",
       "      <td>2583</td>\n",
       "      <td>2358.0</td>\n",
       "      <td>120.0</td>\n",
       "      <td>360.0</td>\n",
       "      <td>1.0</td>\n",
       "      <td>Urban</td>\n",
       "      <td>Y</td>\n",
       "    </tr>\n",
       "    <tr>\n",
       "      <th>4</th>\n",
       "      <td>LP001008</td>\n",
       "      <td>Male</td>\n",
       "      <td>No</td>\n",
       "      <td>0</td>\n",
       "      <td>Graduate</td>\n",
       "      <td>No</td>\n",
       "      <td>6000</td>\n",
       "      <td>0.0</td>\n",
       "      <td>141.0</td>\n",
       "      <td>360.0</td>\n",
       "      <td>1.0</td>\n",
       "      <td>Urban</td>\n",
       "      <td>Y</td>\n",
       "    </tr>\n",
       "  </tbody>\n",
       "</table>\n",
       "</div>"
      ],
      "text/plain": [
       "    Loan_ID Gender Married Dependents     Education Self_Employed  \\\n",
       "0  LP001002   Male      No          0      Graduate            No   \n",
       "1  LP001003   Male     Yes          1      Graduate            No   \n",
       "2  LP001005   Male     Yes          0      Graduate           Yes   \n",
       "3  LP001006   Male     Yes          0  Not Graduate            No   \n",
       "4  LP001008   Male      No          0      Graduate            No   \n",
       "\n",
       "   ApplicantIncome  CoapplicantIncome  LoanAmount  Loan_Amount_Term  \\\n",
       "0             5849                0.0         NaN             360.0   \n",
       "1             4583             1508.0       128.0             360.0   \n",
       "2             3000                0.0        66.0             360.0   \n",
       "3             2583             2358.0       120.0             360.0   \n",
       "4             6000                0.0       141.0             360.0   \n",
       "\n",
       "   Credit_History Property_Area Loan_Status  \n",
       "0             1.0         Urban           Y  \n",
       "1             1.0         Rural           N  \n",
       "2             1.0         Urban           Y  \n",
       "3             1.0         Urban           Y  \n",
       "4             1.0         Urban           Y  "
      ]
     },
     "execution_count": 2,
     "metadata": {},
     "output_type": "execute_result"
    }
   ],
   "source": [
    "# Load the data\n",
    "main_loan_df = pd.read_csv('Loan_Data.csv')\n",
    "\n",
    "# Make sure that the result is as expected\n",
    "main_loan_df.head(5)"
   ]
  },
  {
   "cell_type": "code",
   "execution_count": 3,
   "id": "d08b7156",
   "metadata": {},
   "outputs": [],
   "source": [
    "# copying data to new variables \n",
    "loan_df = main_loan_df.copy()"
   ]
  },
  {
   "cell_type": "code",
   "execution_count": 4,
   "id": "744de619",
   "metadata": {},
   "outputs": [
    {
     "data": {
      "text/html": [
       "<div>\n",
       "<style scoped>\n",
       "    .dataframe tbody tr th:only-of-type {\n",
       "        vertical-align: middle;\n",
       "    }\n",
       "\n",
       "    .dataframe tbody tr th {\n",
       "        vertical-align: top;\n",
       "    }\n",
       "\n",
       "    .dataframe thead th {\n",
       "        text-align: right;\n",
       "    }\n",
       "</style>\n",
       "<table border=\"1\" class=\"dataframe\">\n",
       "  <thead>\n",
       "    <tr style=\"text-align: right;\">\n",
       "      <th></th>\n",
       "      <th>Loan_ID</th>\n",
       "      <th>Gender</th>\n",
       "      <th>Married</th>\n",
       "      <th>Dependents</th>\n",
       "      <th>Education</th>\n",
       "      <th>Self_Employed</th>\n",
       "      <th>ApplicantIncome</th>\n",
       "      <th>CoapplicantIncome</th>\n",
       "      <th>LoanAmount</th>\n",
       "      <th>Loan_Amount_Term</th>\n",
       "      <th>Credit_History</th>\n",
       "      <th>Property_Area</th>\n",
       "      <th>Loan_Status</th>\n",
       "    </tr>\n",
       "  </thead>\n",
       "  <tbody>\n",
       "    <tr>\n",
       "      <th>0</th>\n",
       "      <td>LP001002</td>\n",
       "      <td>Male</td>\n",
       "      <td>No</td>\n",
       "      <td>0</td>\n",
       "      <td>Graduate</td>\n",
       "      <td>No</td>\n",
       "      <td>5849</td>\n",
       "      <td>0.0</td>\n",
       "      <td>NaN</td>\n",
       "      <td>360.0</td>\n",
       "      <td>1.0</td>\n",
       "      <td>Urban</td>\n",
       "      <td>Y</td>\n",
       "    </tr>\n",
       "    <tr>\n",
       "      <th>1</th>\n",
       "      <td>LP001003</td>\n",
       "      <td>Male</td>\n",
       "      <td>Yes</td>\n",
       "      <td>1</td>\n",
       "      <td>Graduate</td>\n",
       "      <td>No</td>\n",
       "      <td>4583</td>\n",
       "      <td>1508.0</td>\n",
       "      <td>128.0</td>\n",
       "      <td>360.0</td>\n",
       "      <td>1.0</td>\n",
       "      <td>Rural</td>\n",
       "      <td>N</td>\n",
       "    </tr>\n",
       "    <tr>\n",
       "      <th>2</th>\n",
       "      <td>LP001005</td>\n",
       "      <td>Male</td>\n",
       "      <td>Yes</td>\n",
       "      <td>0</td>\n",
       "      <td>Graduate</td>\n",
       "      <td>Yes</td>\n",
       "      <td>3000</td>\n",
       "      <td>0.0</td>\n",
       "      <td>66.0</td>\n",
       "      <td>360.0</td>\n",
       "      <td>1.0</td>\n",
       "      <td>Urban</td>\n",
       "      <td>Y</td>\n",
       "    </tr>\n",
       "    <tr>\n",
       "      <th>3</th>\n",
       "      <td>LP001006</td>\n",
       "      <td>Male</td>\n",
       "      <td>Yes</td>\n",
       "      <td>0</td>\n",
       "      <td>Not Graduate</td>\n",
       "      <td>No</td>\n",
       "      <td>2583</td>\n",
       "      <td>2358.0</td>\n",
       "      <td>120.0</td>\n",
       "      <td>360.0</td>\n",
       "      <td>1.0</td>\n",
       "      <td>Urban</td>\n",
       "      <td>Y</td>\n",
       "    </tr>\n",
       "    <tr>\n",
       "      <th>4</th>\n",
       "      <td>LP001008</td>\n",
       "      <td>Male</td>\n",
       "      <td>No</td>\n",
       "      <td>0</td>\n",
       "      <td>Graduate</td>\n",
       "      <td>No</td>\n",
       "      <td>6000</td>\n",
       "      <td>0.0</td>\n",
       "      <td>141.0</td>\n",
       "      <td>360.0</td>\n",
       "      <td>1.0</td>\n",
       "      <td>Urban</td>\n",
       "      <td>Y</td>\n",
       "    </tr>\n",
       "  </tbody>\n",
       "</table>\n",
       "</div>"
      ],
      "text/plain": [
       "    Loan_ID Gender Married Dependents     Education Self_Employed  \\\n",
       "0  LP001002   Male      No          0      Graduate            No   \n",
       "1  LP001003   Male     Yes          1      Graduate            No   \n",
       "2  LP001005   Male     Yes          0      Graduate           Yes   \n",
       "3  LP001006   Male     Yes          0  Not Graduate            No   \n",
       "4  LP001008   Male      No          0      Graduate            No   \n",
       "\n",
       "   ApplicantIncome  CoapplicantIncome  LoanAmount  Loan_Amount_Term  \\\n",
       "0             5849                0.0         NaN             360.0   \n",
       "1             4583             1508.0       128.0             360.0   \n",
       "2             3000                0.0        66.0             360.0   \n",
       "3             2583             2358.0       120.0             360.0   \n",
       "4             6000                0.0       141.0             360.0   \n",
       "\n",
       "   Credit_History Property_Area Loan_Status  \n",
       "0             1.0         Urban           Y  \n",
       "1             1.0         Rural           N  \n",
       "2             1.0         Urban           Y  \n",
       "3             1.0         Urban           Y  \n",
       "4             1.0         Urban           Y  "
      ]
     },
     "execution_count": 4,
     "metadata": {},
     "output_type": "execute_result"
    }
   ],
   "source": [
    "loan_df.head(5)"
   ]
  },
  {
   "cell_type": "code",
   "execution_count": 5,
   "id": "ec4541e8",
   "metadata": {},
   "outputs": [
    {
     "data": {
      "text/plain": [
       "(614, 13)"
      ]
     },
     "execution_count": 5,
     "metadata": {},
     "output_type": "execute_result"
    }
   ],
   "source": [
    "loan_df.shape"
   ]
  },
  {
   "cell_type": "code",
   "execution_count": 6,
   "id": "f130a63b",
   "metadata": {},
   "outputs": [
    {
     "name": "stdout",
     "output_type": "stream",
     "text": [
      "<class 'pandas.core.frame.DataFrame'>\n",
      "RangeIndex: 614 entries, 0 to 613\n",
      "Data columns (total 13 columns):\n",
      " #   Column             Non-Null Count  Dtype  \n",
      "---  ------             --------------  -----  \n",
      " 0   Loan_ID            614 non-null    object \n",
      " 1   Gender             601 non-null    object \n",
      " 2   Married            611 non-null    object \n",
      " 3   Dependents         599 non-null    object \n",
      " 4   Education          614 non-null    object \n",
      " 5   Self_Employed      582 non-null    object \n",
      " 6   ApplicantIncome    614 non-null    int64  \n",
      " 7   CoapplicantIncome  614 non-null    float64\n",
      " 8   LoanAmount         592 non-null    float64\n",
      " 9   Loan_Amount_Term   600 non-null    float64\n",
      " 10  Credit_History     564 non-null    float64\n",
      " 11  Property_Area      614 non-null    object \n",
      " 12  Loan_Status        614 non-null    object \n",
      "dtypes: float64(4), int64(1), object(8)\n",
      "memory usage: 62.5+ KB\n"
     ]
    }
   ],
   "source": [
    "loan_df.info()"
   ]
  },
  {
   "cell_type": "code",
   "execution_count": null,
   "id": "04f55eb9",
   "metadata": {},
   "outputs": [],
   "source": [
    "# check the loan approval status \n",
    "loan_df['Loan_Status'].value_counts()"
   ]
  },
  {
   "cell_type": "code",
   "execution_count": null,
   "id": "237e5cdc",
   "metadata": {},
   "outputs": [],
   "source": [
    "# get a % of approved vs non-approved\n",
    "loan_df['Loan_Status'].value_counts(normalize=True)"
   ]
  },
  {
   "cell_type": "markdown",
   "id": "3c457d68",
   "metadata": {},
   "source": [
    "Looks like 422 people (68.72%) out of 614 people got approved for a loan"
   ]
  },
  {
   "cell_type": "code",
   "execution_count": null,
   "id": "0943b877",
   "metadata": {},
   "outputs": [],
   "source": [
    "#loan_df['Loan_Status'].value_counts().plot.bar()\n",
    "fig = px.bar(loan_df.Loan_Status, y =\"Loan_Status\", title =\"Distribution of Loan Status\")\n",
    "fig.show()"
   ]
  },
  {
   "cell_type": "code",
   "execution_count": null,
   "id": "644ea0a0",
   "metadata": {},
   "outputs": [],
   "source": [
    "loan_df['Married'].value_counts(normalize=True)"
   ]
  },
  {
   "cell_type": "code",
   "execution_count": null,
   "id": "12dbe287",
   "metadata": {},
   "outputs": [],
   "source": [
    "loan_df['Self_Employed'].value_counts(normalize=True)"
   ]
  },
  {
   "cell_type": "code",
   "execution_count": null,
   "id": "238cddfd",
   "metadata": {},
   "outputs": [],
   "source": [
    "loan_df['Credit_History'].value_counts(normalize=True)"
   ]
  },
  {
   "cell_type": "code",
   "execution_count": null,
   "id": "5feda728",
   "metadata": {},
   "outputs": [],
   "source": [
    "loan_df['Gender'].value_counts(normalize=True)"
   ]
  },
  {
   "cell_type": "code",
   "execution_count": null,
   "id": "46d521f7-8a41-4eff-98f0-e74d8ba453ef",
   "metadata": {},
   "outputs": [],
   "source": [
    "loan_df['Dependents'].value_counts(normalize=True)"
   ]
  },
  {
   "cell_type": "code",
   "execution_count": null,
   "id": "f6db2237-d1a7-4d82-96c1-59603aa7bbf5",
   "metadata": {},
   "outputs": [],
   "source": [
    "loan_df['Education'].value_counts(normalize=True)"
   ]
  },
  {
   "cell_type": "code",
   "execution_count": null,
   "id": "9c9531a0-30a7-486d-9c0d-e493e3ca1837",
   "metadata": {},
   "outputs": [],
   "source": [
    "loan_df['Property_Area'].value_counts(normalize=True)"
   ]
  },
  {
   "cell_type": "code",
   "execution_count": null,
   "id": "b656c5b6-759f-4f4b-ac16-1c51cf536645",
   "metadata": {},
   "outputs": [],
   "source": [
    "loan_df['Loan_Amount_Term'].value_counts(normalize=True)"
   ]
  },
  {
   "cell_type": "code",
   "execution_count": null,
   "id": "48545b3e-c23e-4e8d-8869-79d06174862d",
   "metadata": {},
   "outputs": [],
   "source": []
  },
  {
   "cell_type": "markdown",
   "id": "b5bbbaf5-cb28-4656-842c-274fa05633ad",
   "metadata": {},
   "source": [
    "## Explorative Data Analysis"
   ]
  },
  {
   "cell_type": "markdown",
   "id": "c0a13eb1-6608-4dc3-b8a2-a55648977623",
   "metadata": {},
   "source": [
    "### Heat Map "
   ]
  },
  {
   "cell_type": "code",
   "execution_count": 7,
   "id": "66fcde33-fe14-48eb-a7a3-b79a783e0405",
   "metadata": {},
   "outputs": [],
   "source": [
    "\n",
    "loan_df = loan_df.drop(columns = ['Loan_ID'], axis=1)\n",
    "loan_df.dropna(inplace=True) \n",
    "X = loan_df.drop(\"Loan_Status\", axis=1)\n",
    "X = pd.get_dummies(X, drop_first=True)"
   ]
  },
  {
   "cell_type": "code",
   "execution_count": 8,
   "id": "f4f94ac2-44cb-4807-99c8-522fb514a3f2",
   "metadata": {},
   "outputs": [],
   "source": [
    "cm = X.corr()"
   ]
  },
  {
   "cell_type": "code",
   "execution_count": 9,
   "id": "3dec5272-cf26-4e75-bde8-640ca830c857",
   "metadata": {},
   "outputs": [
    {
     "ename": "KeyboardInterrupt",
     "evalue": "",
     "output_type": "error",
     "traceback": [
      "\u001b[0;31m---------------------------------------------------------------------------\u001b[0m",
      "\u001b[0;31mKeyboardInterrupt\u001b[0m                         Traceback (most recent call last)",
      "Input \u001b[0;32mIn [9]\u001b[0m, in \u001b[0;36m<cell line: 21>\u001b[0;34m()\u001b[0m\n\u001b[1;32m     18\u001b[0m plt\u001b[38;5;241m.\u001b[39mtitle(\u001b[38;5;124m\"\u001b[39m\u001b[38;5;124mCorrelation Heatmap\u001b[39m\u001b[38;5;124m\"\u001b[39m)\n\u001b[1;32m     20\u001b[0m \u001b[38;5;66;03m# plot\u001b[39;00m\n\u001b[0;32m---> 21\u001b[0m \u001b[43mplt\u001b[49m\u001b[38;5;241;43m.\u001b[39;49m\u001b[43mshow\u001b[49m\u001b[43m(\u001b[49m\u001b[43m)\u001b[49m\n",
      "File \u001b[0;32m/opt/anaconda3/lib/python3.9/site-packages/matplotlib/pyplot.py:389\u001b[0m, in \u001b[0;36mshow\u001b[0;34m(*args, **kwargs)\u001b[0m\n\u001b[1;32m    345\u001b[0m \u001b[38;5;124;03m\"\"\"\u001b[39;00m\n\u001b[1;32m    346\u001b[0m \u001b[38;5;124;03mDisplay all open figures.\u001b[39;00m\n\u001b[1;32m    347\u001b[0m \n\u001b[0;32m   (...)\u001b[0m\n\u001b[1;32m    386\u001b[0m \u001b[38;5;124;03mexplicitly there.\u001b[39;00m\n\u001b[1;32m    387\u001b[0m \u001b[38;5;124;03m\"\"\"\u001b[39;00m\n\u001b[1;32m    388\u001b[0m _warn_if_gui_out_of_main_thread()\n\u001b[0;32m--> 389\u001b[0m \u001b[38;5;28;01mreturn\u001b[39;00m \u001b[43m_get_backend_mod\u001b[49m\u001b[43m(\u001b[49m\u001b[43m)\u001b[49m\u001b[38;5;241;43m.\u001b[39;49m\u001b[43mshow\u001b[49m\u001b[43m(\u001b[49m\u001b[38;5;241;43m*\u001b[39;49m\u001b[43margs\u001b[49m\u001b[43m,\u001b[49m\u001b[43m \u001b[49m\u001b[38;5;241;43m*\u001b[39;49m\u001b[38;5;241;43m*\u001b[39;49m\u001b[43mkwargs\u001b[49m\u001b[43m)\u001b[49m\n",
      "File \u001b[0;32m/opt/anaconda3/lib/python3.9/site-packages/matplotlib_inline/backend_inline.py:90\u001b[0m, in \u001b[0;36mshow\u001b[0;34m(close, block)\u001b[0m\n\u001b[1;32m     88\u001b[0m \u001b[38;5;28;01mtry\u001b[39;00m:\n\u001b[1;32m     89\u001b[0m     \u001b[38;5;28;01mfor\u001b[39;00m figure_manager \u001b[38;5;129;01min\u001b[39;00m Gcf\u001b[38;5;241m.\u001b[39mget_all_fig_managers():\n\u001b[0;32m---> 90\u001b[0m         \u001b[43mdisplay\u001b[49m\u001b[43m(\u001b[49m\n\u001b[1;32m     91\u001b[0m \u001b[43m            \u001b[49m\u001b[43mfigure_manager\u001b[49m\u001b[38;5;241;43m.\u001b[39;49m\u001b[43mcanvas\u001b[49m\u001b[38;5;241;43m.\u001b[39;49m\u001b[43mfigure\u001b[49m\u001b[43m,\u001b[49m\n\u001b[1;32m     92\u001b[0m \u001b[43m            \u001b[49m\u001b[43mmetadata\u001b[49m\u001b[38;5;241;43m=\u001b[39;49m\u001b[43m_fetch_figure_metadata\u001b[49m\u001b[43m(\u001b[49m\u001b[43mfigure_manager\u001b[49m\u001b[38;5;241;43m.\u001b[39;49m\u001b[43mcanvas\u001b[49m\u001b[38;5;241;43m.\u001b[39;49m\u001b[43mfigure\u001b[49m\u001b[43m)\u001b[49m\n\u001b[1;32m     93\u001b[0m \u001b[43m        \u001b[49m\u001b[43m)\u001b[49m\n\u001b[1;32m     94\u001b[0m \u001b[38;5;28;01mfinally\u001b[39;00m:\n\u001b[1;32m     95\u001b[0m     show\u001b[38;5;241m.\u001b[39m_to_draw \u001b[38;5;241m=\u001b[39m []\n",
      "File \u001b[0;32m/opt/anaconda3/lib/python3.9/site-packages/IPython/core/display_functions.py:298\u001b[0m, in \u001b[0;36mdisplay\u001b[0;34m(include, exclude, metadata, transient, display_id, raw, clear, *objs, **kwargs)\u001b[0m\n\u001b[1;32m    296\u001b[0m     publish_display_data(data\u001b[38;5;241m=\u001b[39mobj, metadata\u001b[38;5;241m=\u001b[39mmetadata, \u001b[38;5;241m*\u001b[39m\u001b[38;5;241m*\u001b[39mkwargs)\n\u001b[1;32m    297\u001b[0m \u001b[38;5;28;01melse\u001b[39;00m:\n\u001b[0;32m--> 298\u001b[0m     format_dict, md_dict \u001b[38;5;241m=\u001b[39m \u001b[38;5;28;43mformat\u001b[39;49m\u001b[43m(\u001b[49m\u001b[43mobj\u001b[49m\u001b[43m,\u001b[49m\u001b[43m \u001b[49m\u001b[43minclude\u001b[49m\u001b[38;5;241;43m=\u001b[39;49m\u001b[43minclude\u001b[49m\u001b[43m,\u001b[49m\u001b[43m \u001b[49m\u001b[43mexclude\u001b[49m\u001b[38;5;241;43m=\u001b[39;49m\u001b[43mexclude\u001b[49m\u001b[43m)\u001b[49m\n\u001b[1;32m    299\u001b[0m     \u001b[38;5;28;01mif\u001b[39;00m \u001b[38;5;129;01mnot\u001b[39;00m format_dict:\n\u001b[1;32m    300\u001b[0m         \u001b[38;5;66;03m# nothing to display (e.g. _ipython_display_ took over)\u001b[39;00m\n\u001b[1;32m    301\u001b[0m         \u001b[38;5;28;01mcontinue\u001b[39;00m\n",
      "File \u001b[0;32m/opt/anaconda3/lib/python3.9/site-packages/IPython/core/formatters.py:178\u001b[0m, in \u001b[0;36mDisplayFormatter.format\u001b[0;34m(self, obj, include, exclude)\u001b[0m\n\u001b[1;32m    176\u001b[0m md \u001b[38;5;241m=\u001b[39m \u001b[38;5;28;01mNone\u001b[39;00m\n\u001b[1;32m    177\u001b[0m \u001b[38;5;28;01mtry\u001b[39;00m:\n\u001b[0;32m--> 178\u001b[0m     data \u001b[38;5;241m=\u001b[39m \u001b[43mformatter\u001b[49m\u001b[43m(\u001b[49m\u001b[43mobj\u001b[49m\u001b[43m)\u001b[49m\n\u001b[1;32m    179\u001b[0m \u001b[38;5;28;01mexcept\u001b[39;00m:\n\u001b[1;32m    180\u001b[0m     \u001b[38;5;66;03m# FIXME: log the exception\u001b[39;00m\n\u001b[1;32m    181\u001b[0m     \u001b[38;5;28;01mraise\u001b[39;00m\n",
      "File \u001b[0;32m/opt/anaconda3/lib/python3.9/site-packages/decorator.py:232\u001b[0m, in \u001b[0;36mdecorate.<locals>.fun\u001b[0;34m(*args, **kw)\u001b[0m\n\u001b[1;32m    230\u001b[0m \u001b[38;5;28;01mif\u001b[39;00m \u001b[38;5;129;01mnot\u001b[39;00m kwsyntax:\n\u001b[1;32m    231\u001b[0m     args, kw \u001b[38;5;241m=\u001b[39m fix(args, kw, sig)\n\u001b[0;32m--> 232\u001b[0m \u001b[38;5;28;01mreturn\u001b[39;00m \u001b[43mcaller\u001b[49m\u001b[43m(\u001b[49m\u001b[43mfunc\u001b[49m\u001b[43m,\u001b[49m\u001b[43m \u001b[49m\u001b[38;5;241;43m*\u001b[39;49m\u001b[43m(\u001b[49m\u001b[43mextras\u001b[49m\u001b[43m \u001b[49m\u001b[38;5;241;43m+\u001b[39;49m\u001b[43m \u001b[49m\u001b[43margs\u001b[49m\u001b[43m)\u001b[49m\u001b[43m,\u001b[49m\u001b[43m \u001b[49m\u001b[38;5;241;43m*\u001b[39;49m\u001b[38;5;241;43m*\u001b[39;49m\u001b[43mkw\u001b[49m\u001b[43m)\u001b[49m\n",
      "File \u001b[0;32m/opt/anaconda3/lib/python3.9/site-packages/IPython/core/formatters.py:222\u001b[0m, in \u001b[0;36mcatch_format_error\u001b[0;34m(method, self, *args, **kwargs)\u001b[0m\n\u001b[1;32m    220\u001b[0m \u001b[38;5;124;03m\"\"\"show traceback on failed format call\"\"\"\u001b[39;00m\n\u001b[1;32m    221\u001b[0m \u001b[38;5;28;01mtry\u001b[39;00m:\n\u001b[0;32m--> 222\u001b[0m     r \u001b[38;5;241m=\u001b[39m \u001b[43mmethod\u001b[49m\u001b[43m(\u001b[49m\u001b[38;5;28;43mself\u001b[39;49m\u001b[43m,\u001b[49m\u001b[43m \u001b[49m\u001b[38;5;241;43m*\u001b[39;49m\u001b[43margs\u001b[49m\u001b[43m,\u001b[49m\u001b[43m \u001b[49m\u001b[38;5;241;43m*\u001b[39;49m\u001b[38;5;241;43m*\u001b[39;49m\u001b[43mkwargs\u001b[49m\u001b[43m)\u001b[49m\n\u001b[1;32m    223\u001b[0m \u001b[38;5;28;01mexcept\u001b[39;00m \u001b[38;5;167;01mNotImplementedError\u001b[39;00m:\n\u001b[1;32m    224\u001b[0m     \u001b[38;5;66;03m# don't warn on NotImplementedErrors\u001b[39;00m\n\u001b[1;32m    225\u001b[0m     \u001b[38;5;28;01mreturn\u001b[39;00m \u001b[38;5;28mself\u001b[39m\u001b[38;5;241m.\u001b[39m_check_return(\u001b[38;5;28;01mNone\u001b[39;00m, args[\u001b[38;5;241m0\u001b[39m])\n",
      "File \u001b[0;32m/opt/anaconda3/lib/python3.9/site-packages/IPython/core/formatters.py:339\u001b[0m, in \u001b[0;36mBaseFormatter.__call__\u001b[0;34m(self, obj)\u001b[0m\n\u001b[1;32m    337\u001b[0m     \u001b[38;5;28;01mpass\u001b[39;00m\n\u001b[1;32m    338\u001b[0m \u001b[38;5;28;01melse\u001b[39;00m:\n\u001b[0;32m--> 339\u001b[0m     \u001b[38;5;28;01mreturn\u001b[39;00m \u001b[43mprinter\u001b[49m\u001b[43m(\u001b[49m\u001b[43mobj\u001b[49m\u001b[43m)\u001b[49m\n\u001b[1;32m    340\u001b[0m \u001b[38;5;66;03m# Finally look for special method names\u001b[39;00m\n\u001b[1;32m    341\u001b[0m method \u001b[38;5;241m=\u001b[39m get_real_method(obj, \u001b[38;5;28mself\u001b[39m\u001b[38;5;241m.\u001b[39mprint_method)\n",
      "File \u001b[0;32m/opt/anaconda3/lib/python3.9/site-packages/IPython/core/pylabtools.py:151\u001b[0m, in \u001b[0;36mprint_figure\u001b[0;34m(fig, fmt, bbox_inches, base64, **kwargs)\u001b[0m\n\u001b[1;32m    148\u001b[0m     \u001b[38;5;28;01mfrom\u001b[39;00m \u001b[38;5;21;01mmatplotlib\u001b[39;00m\u001b[38;5;21;01m.\u001b[39;00m\u001b[38;5;21;01mbackend_bases\u001b[39;00m \u001b[38;5;28;01mimport\u001b[39;00m FigureCanvasBase\n\u001b[1;32m    149\u001b[0m     FigureCanvasBase(fig)\n\u001b[0;32m--> 151\u001b[0m \u001b[43mfig\u001b[49m\u001b[38;5;241;43m.\u001b[39;49m\u001b[43mcanvas\u001b[49m\u001b[38;5;241;43m.\u001b[39;49m\u001b[43mprint_figure\u001b[49m\u001b[43m(\u001b[49m\u001b[43mbytes_io\u001b[49m\u001b[43m,\u001b[49m\u001b[43m \u001b[49m\u001b[38;5;241;43m*\u001b[39;49m\u001b[38;5;241;43m*\u001b[39;49m\u001b[43mkw\u001b[49m\u001b[43m)\u001b[49m\n\u001b[1;32m    152\u001b[0m data \u001b[38;5;241m=\u001b[39m bytes_io\u001b[38;5;241m.\u001b[39mgetvalue()\n\u001b[1;32m    153\u001b[0m \u001b[38;5;28;01mif\u001b[39;00m fmt \u001b[38;5;241m==\u001b[39m \u001b[38;5;124m'\u001b[39m\u001b[38;5;124msvg\u001b[39m\u001b[38;5;124m'\u001b[39m:\n",
      "File \u001b[0;32m/opt/anaconda3/lib/python3.9/site-packages/matplotlib/backend_bases.py:2295\u001b[0m, in \u001b[0;36mFigureCanvasBase.print_figure\u001b[0;34m(self, filename, dpi, facecolor, edgecolor, orientation, format, bbox_inches, pad_inches, bbox_extra_artists, backend, **kwargs)\u001b[0m\n\u001b[1;32m   2289\u001b[0m     renderer \u001b[38;5;241m=\u001b[39m _get_renderer(\n\u001b[1;32m   2290\u001b[0m         \u001b[38;5;28mself\u001b[39m\u001b[38;5;241m.\u001b[39mfigure,\n\u001b[1;32m   2291\u001b[0m         functools\u001b[38;5;241m.\u001b[39mpartial(\n\u001b[1;32m   2292\u001b[0m             print_method, orientation\u001b[38;5;241m=\u001b[39morientation)\n\u001b[1;32m   2293\u001b[0m     )\n\u001b[1;32m   2294\u001b[0m     \u001b[38;5;28;01mwith\u001b[39;00m \u001b[38;5;28mgetattr\u001b[39m(renderer, \u001b[38;5;124m\"\u001b[39m\u001b[38;5;124m_draw_disabled\u001b[39m\u001b[38;5;124m\"\u001b[39m, nullcontext)():\n\u001b[0;32m-> 2295\u001b[0m         \u001b[38;5;28;43mself\u001b[39;49m\u001b[38;5;241;43m.\u001b[39;49m\u001b[43mfigure\u001b[49m\u001b[38;5;241;43m.\u001b[39;49m\u001b[43mdraw\u001b[49m\u001b[43m(\u001b[49m\u001b[43mrenderer\u001b[49m\u001b[43m)\u001b[49m\n\u001b[1;32m   2297\u001b[0m \u001b[38;5;28;01mif\u001b[39;00m bbox_inches:\n\u001b[1;32m   2298\u001b[0m     \u001b[38;5;28;01mif\u001b[39;00m bbox_inches \u001b[38;5;241m==\u001b[39m \u001b[38;5;124m\"\u001b[39m\u001b[38;5;124mtight\u001b[39m\u001b[38;5;124m\"\u001b[39m:\n",
      "File \u001b[0;32m/opt/anaconda3/lib/python3.9/site-packages/matplotlib/artist.py:73\u001b[0m, in \u001b[0;36m_finalize_rasterization.<locals>.draw_wrapper\u001b[0;34m(artist, renderer, *args, **kwargs)\u001b[0m\n\u001b[1;32m     71\u001b[0m \u001b[38;5;129m@wraps\u001b[39m(draw)\n\u001b[1;32m     72\u001b[0m \u001b[38;5;28;01mdef\u001b[39;00m \u001b[38;5;21mdraw_wrapper\u001b[39m(artist, renderer, \u001b[38;5;241m*\u001b[39margs, \u001b[38;5;241m*\u001b[39m\u001b[38;5;241m*\u001b[39mkwargs):\n\u001b[0;32m---> 73\u001b[0m     result \u001b[38;5;241m=\u001b[39m \u001b[43mdraw\u001b[49m\u001b[43m(\u001b[49m\u001b[43martist\u001b[49m\u001b[43m,\u001b[49m\u001b[43m \u001b[49m\u001b[43mrenderer\u001b[49m\u001b[43m,\u001b[49m\u001b[43m \u001b[49m\u001b[38;5;241;43m*\u001b[39;49m\u001b[43margs\u001b[49m\u001b[43m,\u001b[49m\u001b[43m \u001b[49m\u001b[38;5;241;43m*\u001b[39;49m\u001b[38;5;241;43m*\u001b[39;49m\u001b[43mkwargs\u001b[49m\u001b[43m)\u001b[49m\n\u001b[1;32m     74\u001b[0m     \u001b[38;5;28;01mif\u001b[39;00m renderer\u001b[38;5;241m.\u001b[39m_rasterizing:\n\u001b[1;32m     75\u001b[0m         renderer\u001b[38;5;241m.\u001b[39mstop_rasterizing()\n",
      "File \u001b[0;32m/opt/anaconda3/lib/python3.9/site-packages/matplotlib/artist.py:50\u001b[0m, in \u001b[0;36mallow_rasterization.<locals>.draw_wrapper\u001b[0;34m(artist, renderer)\u001b[0m\n\u001b[1;32m     47\u001b[0m     \u001b[38;5;28;01mif\u001b[39;00m artist\u001b[38;5;241m.\u001b[39mget_agg_filter() \u001b[38;5;129;01mis\u001b[39;00m \u001b[38;5;129;01mnot\u001b[39;00m \u001b[38;5;28;01mNone\u001b[39;00m:\n\u001b[1;32m     48\u001b[0m         renderer\u001b[38;5;241m.\u001b[39mstart_filter()\n\u001b[0;32m---> 50\u001b[0m     \u001b[38;5;28;01mreturn\u001b[39;00m \u001b[43mdraw\u001b[49m\u001b[43m(\u001b[49m\u001b[43martist\u001b[49m\u001b[43m,\u001b[49m\u001b[43m \u001b[49m\u001b[43mrenderer\u001b[49m\u001b[43m)\u001b[49m\n\u001b[1;32m     51\u001b[0m \u001b[38;5;28;01mfinally\u001b[39;00m:\n\u001b[1;32m     52\u001b[0m     \u001b[38;5;28;01mif\u001b[39;00m artist\u001b[38;5;241m.\u001b[39mget_agg_filter() \u001b[38;5;129;01mis\u001b[39;00m \u001b[38;5;129;01mnot\u001b[39;00m \u001b[38;5;28;01mNone\u001b[39;00m:\n",
      "File \u001b[0;32m/opt/anaconda3/lib/python3.9/site-packages/matplotlib/figure.py:2837\u001b[0m, in \u001b[0;36mFigure.draw\u001b[0;34m(self, renderer)\u001b[0m\n\u001b[1;32m   2834\u001b[0m         \u001b[38;5;66;03m# ValueError can occur when resizing a window.\u001b[39;00m\n\u001b[1;32m   2836\u001b[0m \u001b[38;5;28mself\u001b[39m\u001b[38;5;241m.\u001b[39mpatch\u001b[38;5;241m.\u001b[39mdraw(renderer)\n\u001b[0;32m-> 2837\u001b[0m \u001b[43mmimage\u001b[49m\u001b[38;5;241;43m.\u001b[39;49m\u001b[43m_draw_list_compositing_images\u001b[49m\u001b[43m(\u001b[49m\n\u001b[1;32m   2838\u001b[0m \u001b[43m    \u001b[49m\u001b[43mrenderer\u001b[49m\u001b[43m,\u001b[49m\u001b[43m \u001b[49m\u001b[38;5;28;43mself\u001b[39;49m\u001b[43m,\u001b[49m\u001b[43m \u001b[49m\u001b[43martists\u001b[49m\u001b[43m,\u001b[49m\u001b[43m \u001b[49m\u001b[38;5;28;43mself\u001b[39;49m\u001b[38;5;241;43m.\u001b[39;49m\u001b[43msuppressComposite\u001b[49m\u001b[43m)\u001b[49m\n\u001b[1;32m   2840\u001b[0m \u001b[38;5;28;01mfor\u001b[39;00m sfig \u001b[38;5;129;01min\u001b[39;00m \u001b[38;5;28mself\u001b[39m\u001b[38;5;241m.\u001b[39msubfigs:\n\u001b[1;32m   2841\u001b[0m     sfig\u001b[38;5;241m.\u001b[39mdraw(renderer)\n",
      "File \u001b[0;32m/opt/anaconda3/lib/python3.9/site-packages/matplotlib/image.py:132\u001b[0m, in \u001b[0;36m_draw_list_compositing_images\u001b[0;34m(renderer, parent, artists, suppress_composite)\u001b[0m\n\u001b[1;32m    130\u001b[0m \u001b[38;5;28;01mif\u001b[39;00m not_composite \u001b[38;5;129;01mor\u001b[39;00m \u001b[38;5;129;01mnot\u001b[39;00m has_images:\n\u001b[1;32m    131\u001b[0m     \u001b[38;5;28;01mfor\u001b[39;00m a \u001b[38;5;129;01min\u001b[39;00m artists:\n\u001b[0;32m--> 132\u001b[0m         \u001b[43ma\u001b[49m\u001b[38;5;241;43m.\u001b[39;49m\u001b[43mdraw\u001b[49m\u001b[43m(\u001b[49m\u001b[43mrenderer\u001b[49m\u001b[43m)\u001b[49m\n\u001b[1;32m    133\u001b[0m \u001b[38;5;28;01melse\u001b[39;00m:\n\u001b[1;32m    134\u001b[0m     \u001b[38;5;66;03m# Composite any adjacent images together\u001b[39;00m\n\u001b[1;32m    135\u001b[0m     image_group \u001b[38;5;241m=\u001b[39m []\n",
      "File \u001b[0;32m/opt/anaconda3/lib/python3.9/site-packages/matplotlib/artist.py:50\u001b[0m, in \u001b[0;36mallow_rasterization.<locals>.draw_wrapper\u001b[0;34m(artist, renderer)\u001b[0m\n\u001b[1;32m     47\u001b[0m     \u001b[38;5;28;01mif\u001b[39;00m artist\u001b[38;5;241m.\u001b[39mget_agg_filter() \u001b[38;5;129;01mis\u001b[39;00m \u001b[38;5;129;01mnot\u001b[39;00m \u001b[38;5;28;01mNone\u001b[39;00m:\n\u001b[1;32m     48\u001b[0m         renderer\u001b[38;5;241m.\u001b[39mstart_filter()\n\u001b[0;32m---> 50\u001b[0m     \u001b[38;5;28;01mreturn\u001b[39;00m \u001b[43mdraw\u001b[49m\u001b[43m(\u001b[49m\u001b[43martist\u001b[49m\u001b[43m,\u001b[49m\u001b[43m \u001b[49m\u001b[43mrenderer\u001b[49m\u001b[43m)\u001b[49m\n\u001b[1;32m     51\u001b[0m \u001b[38;5;28;01mfinally\u001b[39;00m:\n\u001b[1;32m     52\u001b[0m     \u001b[38;5;28;01mif\u001b[39;00m artist\u001b[38;5;241m.\u001b[39mget_agg_filter() \u001b[38;5;129;01mis\u001b[39;00m \u001b[38;5;129;01mnot\u001b[39;00m \u001b[38;5;28;01mNone\u001b[39;00m:\n",
      "File \u001b[0;32m/opt/anaconda3/lib/python3.9/site-packages/matplotlib/axes/_base.py:3091\u001b[0m, in \u001b[0;36m_AxesBase.draw\u001b[0;34m(self, renderer)\u001b[0m\n\u001b[1;32m   3088\u001b[0m         a\u001b[38;5;241m.\u001b[39mdraw(renderer)\n\u001b[1;32m   3089\u001b[0m     renderer\u001b[38;5;241m.\u001b[39mstop_rasterizing()\n\u001b[0;32m-> 3091\u001b[0m \u001b[43mmimage\u001b[49m\u001b[38;5;241;43m.\u001b[39;49m\u001b[43m_draw_list_compositing_images\u001b[49m\u001b[43m(\u001b[49m\n\u001b[1;32m   3092\u001b[0m \u001b[43m    \u001b[49m\u001b[43mrenderer\u001b[49m\u001b[43m,\u001b[49m\u001b[43m \u001b[49m\u001b[38;5;28;43mself\u001b[39;49m\u001b[43m,\u001b[49m\u001b[43m \u001b[49m\u001b[43martists\u001b[49m\u001b[43m,\u001b[49m\u001b[43m \u001b[49m\u001b[38;5;28;43mself\u001b[39;49m\u001b[38;5;241;43m.\u001b[39;49m\u001b[43mfigure\u001b[49m\u001b[38;5;241;43m.\u001b[39;49m\u001b[43msuppressComposite\u001b[49m\u001b[43m)\u001b[49m\n\u001b[1;32m   3094\u001b[0m renderer\u001b[38;5;241m.\u001b[39mclose_group(\u001b[38;5;124m'\u001b[39m\u001b[38;5;124maxes\u001b[39m\u001b[38;5;124m'\u001b[39m)\n\u001b[1;32m   3095\u001b[0m \u001b[38;5;28mself\u001b[39m\u001b[38;5;241m.\u001b[39mstale \u001b[38;5;241m=\u001b[39m \u001b[38;5;28;01mFalse\u001b[39;00m\n",
      "File \u001b[0;32m/opt/anaconda3/lib/python3.9/site-packages/matplotlib/image.py:132\u001b[0m, in \u001b[0;36m_draw_list_compositing_images\u001b[0;34m(renderer, parent, artists, suppress_composite)\u001b[0m\n\u001b[1;32m    130\u001b[0m \u001b[38;5;28;01mif\u001b[39;00m not_composite \u001b[38;5;129;01mor\u001b[39;00m \u001b[38;5;129;01mnot\u001b[39;00m has_images:\n\u001b[1;32m    131\u001b[0m     \u001b[38;5;28;01mfor\u001b[39;00m a \u001b[38;5;129;01min\u001b[39;00m artists:\n\u001b[0;32m--> 132\u001b[0m         \u001b[43ma\u001b[49m\u001b[38;5;241;43m.\u001b[39;49m\u001b[43mdraw\u001b[49m\u001b[43m(\u001b[49m\u001b[43mrenderer\u001b[49m\u001b[43m)\u001b[49m\n\u001b[1;32m    133\u001b[0m \u001b[38;5;28;01melse\u001b[39;00m:\n\u001b[1;32m    134\u001b[0m     \u001b[38;5;66;03m# Composite any adjacent images together\u001b[39;00m\n\u001b[1;32m    135\u001b[0m     image_group \u001b[38;5;241m=\u001b[39m []\n",
      "File \u001b[0;32m/opt/anaconda3/lib/python3.9/site-packages/matplotlib/artist.py:50\u001b[0m, in \u001b[0;36mallow_rasterization.<locals>.draw_wrapper\u001b[0;34m(artist, renderer)\u001b[0m\n\u001b[1;32m     47\u001b[0m     \u001b[38;5;28;01mif\u001b[39;00m artist\u001b[38;5;241m.\u001b[39mget_agg_filter() \u001b[38;5;129;01mis\u001b[39;00m \u001b[38;5;129;01mnot\u001b[39;00m \u001b[38;5;28;01mNone\u001b[39;00m:\n\u001b[1;32m     48\u001b[0m         renderer\u001b[38;5;241m.\u001b[39mstart_filter()\n\u001b[0;32m---> 50\u001b[0m     \u001b[38;5;28;01mreturn\u001b[39;00m \u001b[43mdraw\u001b[49m\u001b[43m(\u001b[49m\u001b[43martist\u001b[49m\u001b[43m,\u001b[49m\u001b[43m \u001b[49m\u001b[43mrenderer\u001b[49m\u001b[43m)\u001b[49m\n\u001b[1;32m     51\u001b[0m \u001b[38;5;28;01mfinally\u001b[39;00m:\n\u001b[1;32m     52\u001b[0m     \u001b[38;5;28;01mif\u001b[39;00m artist\u001b[38;5;241m.\u001b[39mget_agg_filter() \u001b[38;5;129;01mis\u001b[39;00m \u001b[38;5;129;01mnot\u001b[39;00m \u001b[38;5;28;01mNone\u001b[39;00m:\n",
      "File \u001b[0;32m/opt/anaconda3/lib/python3.9/site-packages/matplotlib/text.py:733\u001b[0m, in \u001b[0;36mText.draw\u001b[0;34m(self, renderer)\u001b[0m\n\u001b[1;32m    729\u001b[0m             textrenderer\u001b[38;5;241m.\u001b[39mdraw_tex(gc, x, y, clean_line,\n\u001b[1;32m    730\u001b[0m                                   \u001b[38;5;28mself\u001b[39m\u001b[38;5;241m.\u001b[39m_fontproperties, angle,\n\u001b[1;32m    731\u001b[0m                                   mtext\u001b[38;5;241m=\u001b[39mmtext)\n\u001b[1;32m    732\u001b[0m         \u001b[38;5;28;01melse\u001b[39;00m:\n\u001b[0;32m--> 733\u001b[0m             textrenderer\u001b[38;5;241m.\u001b[39mdraw_text(gc, x, y, clean_line,\n\u001b[1;32m    734\u001b[0m                                    \u001b[38;5;28mself\u001b[39m\u001b[38;5;241m.\u001b[39m_fontproperties, angle,\n\u001b[1;32m    735\u001b[0m                                    ismath\u001b[38;5;241m=\u001b[39mismath, mtext\u001b[38;5;241m=\u001b[39mmtext)\n\u001b[1;32m    737\u001b[0m gc\u001b[38;5;241m.\u001b[39mrestore()\n\u001b[1;32m    738\u001b[0m renderer\u001b[38;5;241m.\u001b[39mclose_group(\u001b[38;5;124m'\u001b[39m\u001b[38;5;124mtext\u001b[39m\u001b[38;5;124m'\u001b[39m)\n",
      "File \u001b[0;32m/opt/anaconda3/lib/python3.9/contextlib.py:126\u001b[0m, in \u001b[0;36m_GeneratorContextManager.__exit__\u001b[0;34m(self, typ, value, traceback)\u001b[0m\n\u001b[1;32m    124\u001b[0m \u001b[38;5;28;01mif\u001b[39;00m typ \u001b[38;5;129;01mis\u001b[39;00m \u001b[38;5;28;01mNone\u001b[39;00m:\n\u001b[1;32m    125\u001b[0m     \u001b[38;5;28;01mtry\u001b[39;00m:\n\u001b[0;32m--> 126\u001b[0m         \u001b[38;5;28;43mnext\u001b[39;49m\u001b[43m(\u001b[49m\u001b[38;5;28;43mself\u001b[39;49m\u001b[38;5;241;43m.\u001b[39;49m\u001b[43mgen\u001b[49m\u001b[43m)\u001b[49m\n\u001b[1;32m    127\u001b[0m     \u001b[38;5;28;01mexcept\u001b[39;00m \u001b[38;5;167;01mStopIteration\u001b[39;00m:\n\u001b[1;32m    128\u001b[0m         \u001b[38;5;28;01mreturn\u001b[39;00m \u001b[38;5;28;01mFalse\u001b[39;00m\n",
      "File \u001b[0;32m/opt/anaconda3/lib/python3.9/site-packages/matplotlib/artist.py:1176\u001b[0m, in \u001b[0;36mArtist._cm_set\u001b[0;34m(self, **kwargs)\u001b[0m\n\u001b[1;32m   1174\u001b[0m     \u001b[38;5;28;01myield\u001b[39;00m\n\u001b[1;32m   1175\u001b[0m \u001b[38;5;28;01mfinally\u001b[39;00m:\n\u001b[0;32m-> 1176\u001b[0m     \u001b[38;5;28;43mself\u001b[39;49m\u001b[38;5;241;43m.\u001b[39;49m\u001b[43mset\u001b[49m\u001b[43m(\u001b[49m\u001b[38;5;241;43m*\u001b[39;49m\u001b[38;5;241;43m*\u001b[39;49m\u001b[43morig_vals\u001b[49m\u001b[43m)\u001b[49m\n",
      "File \u001b[0;32m/opt/anaconda3/lib/python3.9/site-packages/matplotlib/artist.py:116\u001b[0m, in \u001b[0;36mArtist.__init_subclass__.<locals>.<lambda>\u001b[0;34m(self, **kwargs)\u001b[0m\n\u001b[1;32m    108\u001b[0m \u001b[38;5;28;01mif\u001b[39;00m \u001b[38;5;129;01mnot\u001b[39;00m \u001b[38;5;28mhasattr\u001b[39m(\u001b[38;5;28mcls\u001b[39m\u001b[38;5;241m.\u001b[39mset, \u001b[38;5;124m'\u001b[39m\u001b[38;5;124m_autogenerated_signature\u001b[39m\u001b[38;5;124m'\u001b[39m):\n\u001b[1;32m    109\u001b[0m     \u001b[38;5;66;03m# Don't overwrite cls.set if the subclass or one of its parents\u001b[39;00m\n\u001b[1;32m    110\u001b[0m     \u001b[38;5;66;03m# has defined a set method set itself.\u001b[39;00m\n\u001b[1;32m    111\u001b[0m     \u001b[38;5;66;03m# If there was no explicit definition, cls.set is inherited from\u001b[39;00m\n\u001b[1;32m    112\u001b[0m     \u001b[38;5;66;03m# the hierarchy of auto-generated set methods, which hold the\u001b[39;00m\n\u001b[1;32m    113\u001b[0m     \u001b[38;5;66;03m# flag _autogenerated_signature.\u001b[39;00m\n\u001b[1;32m    114\u001b[0m     \u001b[38;5;28;01mreturn\u001b[39;00m\n\u001b[0;32m--> 116\u001b[0m \u001b[38;5;28mcls\u001b[39m\u001b[38;5;241m.\u001b[39mset \u001b[38;5;241m=\u001b[39m \u001b[38;5;28;01mlambda\u001b[39;00m \u001b[38;5;28mself\u001b[39m, \u001b[38;5;241m*\u001b[39m\u001b[38;5;241m*\u001b[39mkwargs: \u001b[43mArtist\u001b[49m\u001b[38;5;241;43m.\u001b[39;49m\u001b[43mset\u001b[49m\u001b[43m(\u001b[49m\u001b[38;5;28;43mself\u001b[39;49m\u001b[43m,\u001b[49m\u001b[43m \u001b[49m\u001b[38;5;241;43m*\u001b[39;49m\u001b[38;5;241;43m*\u001b[39;49m\u001b[43mkwargs\u001b[49m\u001b[43m)\u001b[49m\n\u001b[1;32m    117\u001b[0m \u001b[38;5;28mcls\u001b[39m\u001b[38;5;241m.\u001b[39mset\u001b[38;5;241m.\u001b[39m\u001b[38;5;18m__name__\u001b[39m \u001b[38;5;241m=\u001b[39m \u001b[38;5;124m\"\u001b[39m\u001b[38;5;124mset\u001b[39m\u001b[38;5;124m\"\u001b[39m\n\u001b[1;32m    118\u001b[0m \u001b[38;5;28mcls\u001b[39m\u001b[38;5;241m.\u001b[39mset\u001b[38;5;241m.\u001b[39m\u001b[38;5;18m__qualname__\u001b[39m \u001b[38;5;241m=\u001b[39m \u001b[38;5;124mf\u001b[39m\u001b[38;5;124m\"\u001b[39m\u001b[38;5;132;01m{\u001b[39;00m\u001b[38;5;28mcls\u001b[39m\u001b[38;5;241m.\u001b[39m\u001b[38;5;18m__qualname__\u001b[39m\u001b[38;5;132;01m}\u001b[39;00m\u001b[38;5;124m.set\u001b[39m\u001b[38;5;124m\"\u001b[39m\n",
      "File \u001b[0;32m/opt/anaconda3/lib/python3.9/site-packages/matplotlib/artist.py:1164\u001b[0m, in \u001b[0;36mArtist.set\u001b[0;34m(self, **kwargs)\u001b[0m\n\u001b[1;32m   1159\u001b[0m \u001b[38;5;28;01mdef\u001b[39;00m \u001b[38;5;21mset\u001b[39m(\u001b[38;5;28mself\u001b[39m, \u001b[38;5;241m*\u001b[39m\u001b[38;5;241m*\u001b[39mkwargs):\n\u001b[1;32m   1160\u001b[0m     \u001b[38;5;66;03m# docstring and signature are auto-generated via\u001b[39;00m\n\u001b[1;32m   1161\u001b[0m     \u001b[38;5;66;03m# Artist._update_set_signature_and_docstring() at the end of the\u001b[39;00m\n\u001b[1;32m   1162\u001b[0m     \u001b[38;5;66;03m# module.\u001b[39;00m\n\u001b[1;32m   1163\u001b[0m     kwargs \u001b[38;5;241m=\u001b[39m cbook\u001b[38;5;241m.\u001b[39mnormalize_kwargs(kwargs, \u001b[38;5;28mself\u001b[39m)\n\u001b[0;32m-> 1164\u001b[0m     \u001b[38;5;28;01mreturn\u001b[39;00m \u001b[38;5;28;43mself\u001b[39;49m\u001b[38;5;241;43m.\u001b[39;49m\u001b[43mupdate\u001b[49m\u001b[43m(\u001b[49m\u001b[43mkwargs\u001b[49m\u001b[43m)\u001b[49m\n",
      "\u001b[0;31mKeyboardInterrupt\u001b[0m: "
     ]
    }
   ],
   "source": [
    "#Create heatmap\n",
    "# ax = plt.subplots(figsize=(12,10))\n",
    "# mask = np.triu(np.ones_like(cm, dtype = bool))\n",
    "# cmap = sns.diverging_palette(230, 20,as_cmap=True)\n",
    "# # sns.heatmap(cm, mask = mask, annot = True, cmap = 'BrBG')\n",
    "# final_hm = sns.heatmap(cm, mask = mask, annot = True, cmap = cmap)\n",
    "# final_hm.set_title('Triangle Correlation Heatmap', fontdict = {'fontsize':18}, pad = 16)\n",
    "\n",
    "# sns.heatmap(cm, annot=True, cmap='coolwarm')\n",
    "\n",
    "# # Show the plot\n",
    "# plt.show()\n",
    "\n",
    "# heatmap\n",
    "sns.heatmap(cm, annot=True, cmap='coolwarm')\n",
    "\n",
    "# title\n",
    "plt.title(\"Correlation Heatmap\")\n",
    "\n",
    "# plot\n",
    "plt.show()"
   ]
  },
  {
   "cell_type": "code",
   "execution_count": null,
   "id": "c2610c32-7329-4cf9-8be2-46df8dbecc5f",
   "metadata": {},
   "outputs": [],
   "source": [
    "### Exploring relation between applicant income and coapplicant "
   ]
  },
  {
   "cell_type": "code",
   "execution_count": null,
   "id": "22596022-8cdc-4799-a457-0351d7661379",
   "metadata": {},
   "outputs": [],
   "source": [
    "#Explore the relationship between applicatn income and coapplicant income via scatterplot\n",
    "fig = px.scatter(loan_df, x=\"ApplicantIncome\", y=\"CoapplicantIncome\",trendline = 'ols')\n",
    "fig.show()"
   ]
  },
  {
   "cell_type": "markdown",
   "id": "d075ed17-d511-4986-9ed1-39940a2fd972",
   "metadata": {},
   "source": [
    "#### \"ApplicantIncome\" and \"CoapplicantIncome\" have some slight but minimum correlation per analysis above"
   ]
  },
  {
   "cell_type": "code",
   "execution_count": null,
   "id": "896a7ece-f599-452c-89db-e4828db96393",
   "metadata": {},
   "outputs": [],
   "source": []
  },
  {
   "cell_type": "markdown",
   "id": "ef32c9d5-9d23-4173-befa-31a7f2f87522",
   "metadata": {},
   "source": [
    "### Exploring relationship between gender and loan status"
   ]
  },
  {
   "cell_type": "code",
   "execution_count": null,
   "id": "7fa43221-2620-4c39-9b74-dd5bb1b01827",
   "metadata": {},
   "outputs": [],
   "source": [
    "#Explore relationship between gender and loan status\n",
    "ctgl = pd.crosstab(loan_df[\"Gender\"],loan_df[\"Loan_Status\"], normalize = 'index')\n",
    "ctgl.plot.bar()"
   ]
  },
  {
   "cell_type": "code",
   "execution_count": null,
   "id": "fc1318d2-ff6c-4c94-aa4b-ba1f3df196a3",
   "metadata": {},
   "outputs": [],
   "source": [
    "pd.crosstab(loan_df[\"Gender\"],loan_df[\"Loan_Status\"], normalize = 'index')"
   ]
  },
  {
   "cell_type": "markdown",
   "id": "de0e01dd-62ed-43e5-9e6f-e6893dd9ae8c",
   "metadata": {},
   "source": [
    "##### Analysis above shows that gender has no effect on approval status as the rejection and approval rates are the same for both genders"
   ]
  },
  {
   "cell_type": "code",
   "execution_count": null,
   "id": "eb3cc123-eb98-42ce-b605-0863d152475c",
   "metadata": {},
   "outputs": [],
   "source": []
  },
  {
   "cell_type": "markdown",
   "id": "2f51234e-3175-4653-81fb-cbc53861c3ee",
   "metadata": {},
   "source": [
    "### Exploring relationship between property area and loan status"
   ]
  },
  {
   "cell_type": "code",
   "execution_count": null,
   "id": "d477d392-9767-4c83-b9e7-f780f29e6b1b",
   "metadata": {},
   "outputs": [],
   "source": [
    "#Explore relationship between property area and loan status\n",
    "ctgl = pd.crosstab(loan_df[\"Property_Area\"],loan_df[\"Loan_Status\"], normalize = 'index')\n",
    "ctgl.plot.bar()"
   ]
  },
  {
   "cell_type": "code",
   "execution_count": null,
   "id": "480866b0-b252-4781-9a79-4404aab113c6",
   "metadata": {},
   "outputs": [],
   "source": [
    "pd.crosstab(loan_df[\"Property_Area\"],loan_df[\"Loan_Status\"], normalize = 'index')"
   ]
  },
  {
   "cell_type": "markdown",
   "id": "c37a0aa1-04fe-40b8-8f2b-9f817070a678",
   "metadata": {},
   "source": [
    "#### Rural and urban settings shows similar effect on loan status\n",
    "#### However Semiurban does make a difference. Change this variable to semiurban or not"
   ]
  },
  {
   "cell_type": "code",
   "execution_count": null,
   "id": "7ce81f5c-bdf2-4252-9a46-8519f54fa4c4",
   "metadata": {},
   "outputs": [],
   "source": []
  },
  {
   "cell_type": "markdown",
   "id": "b84bd09c-b7ef-4f66-911c-448aaf029d7f",
   "metadata": {},
   "source": [
    "### Exploring relationship between married and loan status"
   ]
  },
  {
   "cell_type": "code",
   "execution_count": null,
   "id": "72041695-e81a-4ecb-9572-f1639d19d37a",
   "metadata": {},
   "outputs": [],
   "source": [
    "#Explore relationship between married and loan status\n",
    "ctgl = pd.crosstab(loan_df[\"Married\"],loan_df[\"Loan_Status\"], normalize = 'index')\n",
    "ctgl.plot.bar()"
   ]
  },
  {
   "cell_type": "code",
   "execution_count": null,
   "id": "d0413a7d-e6b6-4b84-93d6-1be3081aee8a",
   "metadata": {},
   "outputs": [],
   "source": [
    "pd.crosstab(loan_df[\"Married\"],loan_df[\"Loan_Status\"], normalize = 'index')"
   ]
  },
  {
   "cell_type": "markdown",
   "id": "97eb7b49-c743-47f1-8ec0-fff4c8a30e20",
   "metadata": {},
   "source": [
    "#### Married or not does have an effect on loan status. keeping married"
   ]
  },
  {
   "cell_type": "code",
   "execution_count": null,
   "id": "2830f4eb-0018-4453-9324-6b5bcb864e19",
   "metadata": {},
   "outputs": [],
   "source": []
  },
  {
   "cell_type": "markdown",
   "id": "114f9898-89c0-4c05-af13-175b15443dbf",
   "metadata": {},
   "source": [
    "### Explore relationship between dependents and loan status"
   ]
  },
  {
   "cell_type": "code",
   "execution_count": null,
   "id": "99f9763a-d2ff-4cb1-ae0f-4c24891570ef",
   "metadata": {},
   "outputs": [],
   "source": [
    "#Explore relationship between dependents and loan status\n",
    "ctgl = pd.crosstab(loan_df[\"Dependents\"],loan_df[\"Loan_Status\"], normalize = 'index')\n",
    "ctgl.plot.bar()"
   ]
  },
  {
   "cell_type": "code",
   "execution_count": null,
   "id": "450a2db1-547f-497f-8170-8870c91b3f13",
   "metadata": {},
   "outputs": [],
   "source": [
    "pd.crosstab(loan_df[\"Dependents\"],loan_df[\"Loan_Status\"], normalize = 'index')"
   ]
  },
  {
   "cell_type": "markdown",
   "id": "15c778f3-8621-46c7-a8b1-94d7371e74e2",
   "metadata": {},
   "source": [
    "#### Dependents seem to have some but not significant impact on approval."
   ]
  },
  {
   "cell_type": "code",
   "execution_count": null,
   "id": "231cabad-8828-4d94-b0b3-2dea3448fe18",
   "metadata": {},
   "outputs": [],
   "source": []
  },
  {
   "cell_type": "markdown",
   "id": "fd5d7da0-31b4-4ad2-be3f-ff392d92d8b8",
   "metadata": {},
   "source": [
    "### Explore relationship between education and loan status"
   ]
  },
  {
   "cell_type": "code",
   "execution_count": null,
   "id": "ed28b99e-bfc4-4b12-bbdd-19b80405b391",
   "metadata": {},
   "outputs": [],
   "source": [
    "#Explore relationship between education and loan status\n",
    "ctgl = pd.crosstab(loan_df[\"Education\"],loan_df[\"Loan_Status\"], normalize = 'index')\n",
    "ctgl.plot.bar()"
   ]
  },
  {
   "cell_type": "code",
   "execution_count": null,
   "id": "bc8745e4-a09d-46d6-a86d-89d0dbed9327",
   "metadata": {},
   "outputs": [],
   "source": [
    "pd.crosstab(loan_df[\"Education\"],loan_df[\"Loan_Status\"], normalize = 'index')"
   ]
  },
  {
   "cell_type": "markdown",
   "id": "4c23b45d-b42a-4715-8b46-f185f07dbf6c",
   "metadata": {},
   "source": [
    "#### Education does have an impact on loan status. Leave as it is."
   ]
  },
  {
   "cell_type": "code",
   "execution_count": null,
   "id": "8fbd92da-c6bd-4f6a-8ad0-3f81443f27dc",
   "metadata": {},
   "outputs": [],
   "source": []
  },
  {
   "cell_type": "markdown",
   "id": "890caf42-c4f7-4c1c-b93e-012af5125ff8",
   "metadata": {},
   "source": [
    "### Explore relationship between self-employed and loan status"
   ]
  },
  {
   "cell_type": "code",
   "execution_count": null,
   "id": "b9bcd2a4-fbbb-4dd8-af8c-e8bae8bbcbaf",
   "metadata": {},
   "outputs": [],
   "source": [
    "#Explore relationship between self-employed and loan status\n",
    "ctgl = pd.crosstab(loan_df[\"Self_Employed\"],loan_df[\"Loan_Status\"], normalize = 'index')\n",
    "ctgl.plot.bar()"
   ]
  },
  {
   "cell_type": "code",
   "execution_count": null,
   "id": "be33bedf-f185-4b01-afe7-dbd85a2dd2cf",
   "metadata": {},
   "outputs": [],
   "source": [
    "pd.crosstab(loan_df[\"Self_Employed\"],loan_df[\"Loan_Status\"], normalize = 'index')"
   ]
  },
  {
   "cell_type": "markdown",
   "id": "455ecdff-72f2-4547-88d3-5a7acd6164bd",
   "metadata": {},
   "source": [
    "#### Self_employed does not appear to impact loan status. remove self-employed"
   ]
  },
  {
   "cell_type": "code",
   "execution_count": null,
   "id": "e2c95fd2-13eb-4eb8-be92-d8c5e4c07af3",
   "metadata": {},
   "outputs": [],
   "source": []
  },
  {
   "cell_type": "markdown",
   "id": "7fd39e95-8bed-4f63-b953-1ccebc46720a",
   "metadata": {},
   "source": [
    "### Explore relationship between loan term and loan status"
   ]
  },
  {
   "cell_type": "code",
   "execution_count": null,
   "id": "74d2d8a6-1ec6-4e60-bdc7-e641c82cb1c3",
   "metadata": {},
   "outputs": [],
   "source": [
    "#Explore relationship between loan term and loan status\n",
    "ctgl = pd.crosstab(loan_df[\"Loan_Amount_Term\"],loan_df[\"Loan_Status\"], normalize = 'index')\n",
    "ctgl.plot.bar()"
   ]
  },
  {
   "cell_type": "code",
   "execution_count": null,
   "id": "5c877e6a-c946-4e0f-bda4-9e0a70eb3209",
   "metadata": {},
   "outputs": [],
   "source": [
    "pd.crosstab(loan_df[\"Loan_Amount_Term\"],loan_df[\"Loan_Status\"], normalize = 'index')"
   ]
  },
  {
   "cell_type": "markdown",
   "id": "9b2da0bf-4cd3-420e-904f-55e7af8471e4",
   "metadata": {},
   "source": [
    "#### No evidence showing that loan term doesn't impact loan status. keep loan term"
   ]
  },
  {
   "cell_type": "code",
   "execution_count": null,
   "id": "526ec5c2-ba48-4fec-b063-c35e602d0bd5",
   "metadata": {},
   "outputs": [],
   "source": []
  },
  {
   "cell_type": "markdown",
   "id": "ec56b910-076c-46af-86ac-b2dd1160a3ec",
   "metadata": {},
   "source": [
    "### Explore relationship between credit history and loan status"
   ]
  },
  {
   "cell_type": "code",
   "execution_count": null,
   "id": "b76fa12d-e500-48e1-aaef-61b4b1d7f873",
   "metadata": {},
   "outputs": [],
   "source": [
    "#Explore relationship between credit history and loan status\n",
    "ctgl = pd.crosstab(loan_df[\"Credit_History\"],loan_df[\"Loan_Status\"], normalize = 'index')\n",
    "ctgl.plot.bar()"
   ]
  },
  {
   "cell_type": "code",
   "execution_count": null,
   "id": "9e54eb58-2404-48a4-88c3-d0f3c1e16c91",
   "metadata": {},
   "outputs": [],
   "source": [
    "pd.crosstab(loan_df[\"Credit_History\"],loan_df[\"Loan_Status\"], normalize = 'index')"
   ]
  },
  {
   "cell_type": "markdown",
   "id": "2029a662-c040-4858-b095-75fa099fbd17",
   "metadata": {},
   "source": [
    "#### Strong evidence showing that Credit history impacts loan status. keep credit history"
   ]
  },
  {
   "cell_type": "code",
   "execution_count": null,
   "id": "d292ab4c-815d-4301-8753-cf99062d7e6a",
   "metadata": {},
   "outputs": [],
   "source": []
  },
  {
   "cell_type": "markdown",
   "id": "319ed0a6-a585-48c1-b22a-89c447ec62dc",
   "metadata": {},
   "source": [
    "# Data Preparation: Data Quality and Preprocessing"
   ]
  },
  {
   "cell_type": "code",
   "execution_count": null,
   "id": "79734020-7bca-4289-aa73-0058f1125e11",
   "metadata": {},
   "outputs": [],
   "source": [
    "# drop unwanted column \n",
    "loan_df = loan_df.drop(columns = ['Loan_ID'], axis=1)"
   ]
  },
  {
   "cell_type": "markdown",
   "id": "d3588cb1-d18b-4638-85f2-c0f95485a6c3",
   "metadata": {},
   "source": [
    "#### Drop \"gender\" column since \"Gender\" proven to have no effect on loan status"
   ]
  },
  {
   "cell_type": "code",
   "execution_count": null,
   "id": "f5b1b6d6-8fdf-4083-8767-20e8fe7e7536",
   "metadata": {},
   "outputs": [],
   "source": [
    "# Drop \"gender\" column since \"Gender\" proven to have no effect on loan status\n",
    "loan_df = loan_df.drop(columns = ['Gender'], axis=1)"
   ]
  },
  {
   "cell_type": "markdown",
   "id": "b3d7985a-c9f8-42ae-a0e0-f02253d4a7cf",
   "metadata": {},
   "source": [
    "#### Drop \"Self_Emloyed\" column since \"Self-Employed\" proven to have no effect on loan status"
   ]
  },
  {
   "cell_type": "code",
   "execution_count": null,
   "id": "37bb8511-e0bd-4183-b16f-7755f0b358b0",
   "metadata": {},
   "outputs": [],
   "source": [
    "#Drop \"self_employed\" column since \"Gender\" proven to have no effect on loan status\n",
    "loan_df = loan_df.drop(columns = ['Self_Employed'], axis=1)"
   ]
  },
  {
   "cell_type": "markdown",
   "id": "770d2ef0-297d-412a-a732-ef95a228662e",
   "metadata": {},
   "source": [
    "#### Drop \"Dependents\" column since \"Dependents\" proven to have no effect on loan status"
   ]
  },
  {
   "cell_type": "code",
   "execution_count": null,
   "id": "c2210341-82f8-4bc6-9b4a-778b6a81f7dd",
   "metadata": {},
   "outputs": [],
   "source": [
    "loan_df = loan_df.drop(columns = ['Dependents'], axis=1)"
   ]
  },
  {
   "cell_type": "markdown",
   "id": "ddfd4dd1-07e9-4ce2-8f45-c620ae6e402d",
   "metadata": {},
   "source": [
    "### Treating \"Property_Area\" column"
   ]
  },
  {
   "cell_type": "code",
   "execution_count": null,
   "id": "2fb0dd4c-f25d-4e10-9f09-01d4b95d1dce",
   "metadata": {},
   "outputs": [],
   "source": [
    "#Convert proper_area into binary of semiurban or not as as a new variable\n",
    "positive = ['Semiurban']\n",
    "negative = ['Rural', 'Urban']\n",
    "loan_df[\"Semiurban\"] = loan_df[\"Property_Area\"].isin(positive).astype(int)"
   ]
  },
  {
   "cell_type": "code",
   "execution_count": null,
   "id": "e210cab7-542a-433c-aa9f-9d6ac1aa1412",
   "metadata": {},
   "outputs": [],
   "source": [
    "loan_df['Property_Area'].value_counts(normalize=True)"
   ]
  },
  {
   "cell_type": "code",
   "execution_count": null,
   "id": "d4d8607a-21e3-494e-b66d-17f78b3e7ea2",
   "metadata": {},
   "outputs": [],
   "source": [
    "loan_df['Semiurban'].value_counts(normalize=True)"
   ]
  },
  {
   "cell_type": "code",
   "execution_count": null,
   "id": "2a4ccf34-4db8-42b2-8300-0502d0ea07fe",
   "metadata": {},
   "outputs": [],
   "source": [
    "# Drop \"Proper_Area\" column since new variable is created\n",
    "loan_df = loan_df.drop(columns = ['Property_Area'], axis=1)"
   ]
  },
  {
   "cell_type": "code",
   "execution_count": null,
   "id": "eb346dbf-94a9-4232-939d-480b78d7ff22",
   "metadata": {},
   "outputs": [],
   "source": []
  },
  {
   "cell_type": "markdown",
   "id": "3a87788f-2ba4-4284-8a7d-2c39f60b73b2",
   "metadata": {},
   "source": [
    "### Treating coapplicant income columns"
   ]
  },
  {
   "cell_type": "code",
   "execution_count": null,
   "id": "711b8443-d2b5-4891-8991-91f542fda98e",
   "metadata": {},
   "outputs": [],
   "source": [
    "# Drop \"ApplicantIncome\" column since new variable is created\n",
    "#loan_df = loan_df.drop(columns = ['CoapplicantIncome'], axis=1)"
   ]
  },
  {
   "cell_type": "code",
   "execution_count": null,
   "id": "8f3c07ae-22e4-44e7-9b09-132416ec70e0",
   "metadata": {},
   "outputs": [],
   "source": [
    "loan_df.info()"
   ]
  },
  {
   "cell_type": "code",
   "execution_count": null,
   "id": "d60b96aa-b705-48bd-b418-53867969a0d2",
   "metadata": {},
   "outputs": [],
   "source": []
  },
  {
   "cell_type": "markdown",
   "id": "ba3133d3-724e-4061-b929-803f0cd384f2",
   "metadata": {},
   "source": [
    "## Handling Missing Data"
   ]
  },
  {
   "cell_type": "markdown",
   "id": "f0d4ae7c-b5d2-444c-9240-068e49119d46",
   "metadata": {},
   "source": [
    "#### Drop all applicants with missing values"
   ]
  },
  {
   "cell_type": "code",
   "execution_count": null,
   "id": "55889ff1-502c-479b-9c8e-45d67e78002b",
   "metadata": {},
   "outputs": [],
   "source": [
    "# Checking for null values in the columns\n",
    "loan_df.isnull().sum()"
   ]
  },
  {
   "cell_type": "code",
   "execution_count": null,
   "id": "87d3df4a",
   "metadata": {},
   "outputs": [],
   "source": [
    "#loan_df.Married.value_counts()"
   ]
  },
  {
   "cell_type": "code",
   "execution_count": null,
   "id": "a3477428",
   "metadata": {},
   "outputs": [],
   "source": [
    "# get the number of missing values in the Gender column\n",
    "#num_missing = loan_df[\"Married\"].isnull().sum()\n",
    "\n",
    "# generate an array of random values with the same length as the number of missing values\n",
    "#random_values = np.random.choice([\"Yes\", \"No\"], size=num_missing)\n",
    "\n",
    "# fill in the missing values with the random values\n",
    "#loan_df.loc[loan_df[\"Married\"].isnull(), \"Married\"] = random_values\n",
    "\n",
    "#replace null with mode\n",
    "#loan_df.Married.dropna()"
   ]
  },
  {
   "cell_type": "code",
   "execution_count": null,
   "id": "002e1a17",
   "metadata": {},
   "outputs": [],
   "source": [
    "#loan_df.Married.value_counts()"
   ]
  },
  {
   "cell_type": "code",
   "execution_count": null,
   "id": "b99f75a1",
   "metadata": {},
   "outputs": [],
   "source": []
  },
  {
   "cell_type": "code",
   "execution_count": null,
   "id": "7f774c4f",
   "metadata": {},
   "outputs": [],
   "source": [
    "#loan_df.Dependents.value_counts()"
   ]
  },
  {
   "cell_type": "code",
   "execution_count": null,
   "id": "8b4a1e28",
   "metadata": {},
   "outputs": [],
   "source": [
    "# get the number of missing values in the Gender column\n",
    "#num_missing = loan_df[\"Dependents\"].isnull().sum()\n",
    "\n",
    "# generate an array of random values with the same length as the number of missing values\n",
    "#random_values = np.random.choice([\"0\", \"1\", \"2\", \"3+\"], size=num_missing)\n",
    "\n",
    "# fill in the missing values with the random values\n",
    "#loan_df.loc[loan_df[\"Dependents\"].isnull(), \"Dependents\"] = random_values\n",
    "\n",
    "#replace null with mode\n",
    "#loan_df.Dependents.fillna(loan_df.Dependents.mode()[0],inplace=True)\n",
    "\n",
    "#drop null values\n"
   ]
  },
  {
   "cell_type": "code",
   "execution_count": null,
   "id": "c0f23f32",
   "metadata": {},
   "outputs": [],
   "source": [
    "#loan_df.Dependents.value_counts()"
   ]
  },
  {
   "cell_type": "code",
   "execution_count": null,
   "id": "009d654a",
   "metadata": {},
   "outputs": [],
   "source": []
  },
  {
   "cell_type": "code",
   "execution_count": null,
   "id": "8f952b6b",
   "metadata": {},
   "outputs": [],
   "source": [
    "#loan_df.Self_Employed.value_counts()"
   ]
  },
  {
   "cell_type": "code",
   "execution_count": null,
   "id": "e40f5e36",
   "metadata": {},
   "outputs": [],
   "source": [
    "# get the number of missing values in the Gender column\n",
    "#num_missing = loan_df[\"Self_Employed\"].isnull().sum()\n",
    "\n",
    "# generate an array of random values with the same length as the number of missing values\n",
    "#random_values = np.random.choice([\"Yes\", \"No\"], size=num_missing)\n",
    "\n",
    "# fill in the missing values with the random values\n",
    "#loan_df.loc[loan_df[\"Self_Employed\"].isnull(), \"Self_Employed\"] = random_values\n",
    "\n",
    "#replace null with mode\n",
    "#loan_df.Self_Employed.fillna(loan_df.Self_Employed.mode()[0],inplace=True)"
   ]
  },
  {
   "cell_type": "code",
   "execution_count": null,
   "id": "db0920ef",
   "metadata": {},
   "outputs": [],
   "source": [
    "#loan_df.Self_Employed.value_counts()"
   ]
  },
  {
   "cell_type": "code",
   "execution_count": null,
   "id": "1359113c",
   "metadata": {},
   "outputs": [],
   "source": []
  },
  {
   "cell_type": "code",
   "execution_count": null,
   "id": "5db4292c",
   "metadata": {},
   "outputs": [],
   "source": [
    "#loan_df.LoanAmount.value_counts()"
   ]
  },
  {
   "cell_type": "code",
   "execution_count": null,
   "id": "2e380764",
   "metadata": {},
   "outputs": [],
   "source": [
    "#replace null with median\n",
    "#loan_df.LoanAmount.fillna(loan_df.LoanAmount.median(),inplace=True)\n",
    "\n",
    "#replace null with mode\n",
    "#loan_df.LoanAmount.fillna(loan_df.LoanAmount.mode()[0],inplace=True)"
   ]
  },
  {
   "cell_type": "code",
   "execution_count": null,
   "id": "a645b25d",
   "metadata": {},
   "outputs": [],
   "source": [
    "#loan_df.LoanAmount.value_counts()"
   ]
  },
  {
   "cell_type": "code",
   "execution_count": null,
   "id": "15a68a01",
   "metadata": {},
   "outputs": [],
   "source": [
    "#loan_df.Loan_Amount_Term.value_counts()"
   ]
  },
  {
   "cell_type": "code",
   "execution_count": null,
   "id": "958de85e",
   "metadata": {},
   "outputs": [],
   "source": [
    "#replace null with median\n",
    "#loan_df.Loan_Amount_Term.fillna(loan_df.Loan_Amount_Term.median(),inplace=True)\n",
    "\n",
    "#replace null with mode\n",
    "#loan_df.Loan_Amount_Term.fillna(loan_df.Loan_Amount_Term.mode()[0],inplace=True)"
   ]
  },
  {
   "cell_type": "code",
   "execution_count": null,
   "id": "5b691af7",
   "metadata": {},
   "outputs": [],
   "source": [
    "#loan_df.Loan_Amount_Term.value_counts()"
   ]
  },
  {
   "cell_type": "code",
   "execution_count": null,
   "id": "7611862e",
   "metadata": {},
   "outputs": [],
   "source": [
    "#loan_df.Credit_History.value_counts()"
   ]
  },
  {
   "cell_type": "code",
   "execution_count": null,
   "id": "80adf3b6",
   "metadata": {},
   "outputs": [],
   "source": [
    "# get the number of missing values in the Gender column\n",
    "#num_missing = loan_df[\"Credit_History\"].isnull().sum()\n",
    "\n",
    "# generate an array of random values with the same length as the number of missing values\n",
    "#random_values = np.random.choice([1, 0], size=num_missing)\n",
    "\n",
    "# fill in the missing values with the random values\n",
    "#loan_df.loc[loan_df[\"Credit_History\"].isnull(), \"Credit_History\"] = random_values\n",
    "\n",
    "#replace null with mode\n",
    "#loan_df.Credit_History.fillna(loan_df.Credit_History.mode()[0],inplace=True)"
   ]
  },
  {
   "cell_type": "code",
   "execution_count": null,
   "id": "80a5d797",
   "metadata": {},
   "outputs": [],
   "source": [
    "#loan_df.Credit_History.value_counts()"
   ]
  },
  {
   "cell_type": "code",
   "execution_count": null,
   "id": "59ca6da3",
   "metadata": {},
   "outputs": [],
   "source": [
    "#drop all rows with null values\n",
    "loan_df = loan_df.dropna()"
   ]
  },
  {
   "cell_type": "code",
   "execution_count": null,
   "id": "55962be3-0e06-4f7c-8df0-dce281a29897",
   "metadata": {},
   "outputs": [],
   "source": [
    "# Checking for null values in the columns\n",
    "loan_df.isnull().sum()"
   ]
  },
  {
   "cell_type": "code",
   "execution_count": null,
   "id": "daa33a68-d079-4953-b7e7-0fd92d6a6e7d",
   "metadata": {},
   "outputs": [],
   "source": []
  },
  {
   "cell_type": "markdown",
   "id": "d4800466-497f-4142-9548-53c2c247f1e4",
   "metadata": {},
   "source": [
    "# Identifying and Treating Outliers\n",
    "### Option 1: Leave outliers as it is (best result so far)\n",
    "### Option 2: Outliers capped with IQR bounds \n",
    "### Treating outliers seem to skew the result so leave outliers as it is"
   ]
  },
  {
   "cell_type": "code",
   "execution_count": null,
   "id": "e186dfe5-d461-4d40-9ca9-9984c9ee2484",
   "metadata": {},
   "outputs": [],
   "source": []
  },
  {
   "cell_type": "code",
   "execution_count": null,
   "id": "c09bfb3d-ede7-4683-93fa-dab4ffbda458",
   "metadata": {
    "tags": []
   },
   "outputs": [],
   "source": [
    "# create a function to find outliers via IQR\n",
    "def find_outliers_IQR(loan_df):\n",
    "    q1 = loan_df.quantile(0.25)\n",
    "    q3 = loan_df.quantile(0.75)\n",
    "    IQR = q3-q1\n",
    "    outliers = loan_df[((loan_df<(q1-1.5*IQR))|(loan_df>q3+1.5*IQR))]\n",
    "    return outliers"
   ]
  },
  {
   "cell_type": "code",
   "execution_count": null,
   "id": "b8cde8c4-685b-41f1-b124-b07ac8f9b76e",
   "metadata": {},
   "outputs": [],
   "source": [
    "# create a function to replace outliers with median\n",
    "#def impute_outliers_IQR_mode(loan_df):\n",
    "   # q1 = loan_df.quantile(0.25)\n",
    "   # q3 = loan_df.quantile(0.75)\n",
    "   #IQR = q3-q1\n",
    "    #lower = loan_df[(q1-1.5*IQR)]\n",
    "    #upper = loan_df[(q3+1.5*IQR)]\n",
    "    \n",
    "   # loan_df = np.where(loan_df > upper, loan_df.mode()[0], np.where(loan_df < lower, loan_df.median(),loan_df))\n",
    "    \n",
    "    #return loan_df"
   ]
  },
  {
   "cell_type": "code",
   "execution_count": null,
   "id": "d5ed5d5d-60cd-485f-b59a-5d7581bbe016",
   "metadata": {},
   "outputs": [],
   "source": []
  },
  {
   "cell_type": "markdown",
   "id": "fb6be397-d9c4-4548-ba61-48d6ff79384c",
   "metadata": {},
   "source": [
    "### Check and treat outliers of Loan amount"
   ]
  },
  {
   "cell_type": "code",
   "execution_count": null,
   "id": "c452ff61-e528-40fd-8057-565ee01c4dc0",
   "metadata": {},
   "outputs": [],
   "source": [
    "# Check outliers of loan amount via histogram\n",
    "fig = px.histogram(loan_df.LoanAmount, x=\"LoanAmount\", title =\"Distribution of Loan Amount\")\n",
    "fig.show()"
   ]
  },
  {
   "cell_type": "code",
   "execution_count": null,
   "id": "45556c89-b937-4baa-a5a3-08a06c74abc9",
   "metadata": {},
   "outputs": [],
   "source": [
    "# Check outliers of loan amount via box plot\n",
    "fig = px.box(loan_df.LoanAmount, x=\"LoanAmount\", title =\"Distribution of Loan Amount\")\n",
    "fig.show()"
   ]
  },
  {
   "cell_type": "code",
   "execution_count": null,
   "id": "cf651f6f-bc32-4689-b9f0-5d2f963e065b",
   "metadata": {},
   "outputs": [],
   "source": [
    "# find outliers of LoanAmount via IQR\n",
    "outliers = find_outliers_IQR(loan_df[\"LoanAmount\"])\n",
    "print(\"Number of outliers under 'LoanAmount': \"+ str(len(outliers)))\n",
    "print(\"Max Outlier Value: \" + str(outliers.max()))\n",
    "print(\"Min Outlier Value: \" + str(outliers.min()))\n",
    "#outliers"
   ]
  },
  {
   "cell_type": "code",
   "execution_count": null,
   "id": "ce516eb8-8cb1-4cc0-aabe-a7e41d35d07e",
   "metadata": {},
   "outputs": [],
   "source": [
    "#replace outliers with mode\n",
    "#loan_df[\"LoanAmount\"] = impute_outliers_IQR_mode(loan_df[\"LoanAmount\"])\n",
    "\n",
    "#drop outliers\n",
    "#loan_df[\"LoanAmount\"] = drop_outliers_IQR(loan_df[\"LoanAmount\"])\n",
    "\n",
    "#cap outliers\n",
    "q1 = loan_df[\"LoanAmount\"].quantile(0.25)\n",
    "q3 = loan_df[\"LoanAmount\"].quantile(0.75)\n",
    "IQR = q3-q1\n",
    "upper_limit = loan_df[\"LoanAmount\"][~(loan_df[\"LoanAmount\"]>(q3+1.5*IQR))].max()\n",
    "lower_limit = loan_df[\"LoanAmount\"][~(loan_df[\"LoanAmount\"]>(q1-1.5*IQR))].min()\n",
    "loan_df[\"LoanAmount\"] = np.where(loan_df[\"LoanAmount\"] > upper_limit, upper_limit, np.where(loan_df[\"LoanAmount\"]<lower_limit, lower_limit, loan_df[\"LoanAmount\"]))"
   ]
  },
  {
   "cell_type": "code",
   "execution_count": null,
   "id": "b2b453ad-0c08-4514-b03f-70844eb2a20c",
   "metadata": {},
   "outputs": [],
   "source": [
    "#check for outliers of LoanAmount again via histagram \n",
    "fig = px.histogram(loan_df.LoanAmount, x=\"LoanAmount\", title =\"Distribution of Loan Amount\")\n",
    "fig.show()"
   ]
  },
  {
   "cell_type": "code",
   "execution_count": null,
   "id": "7b58b331-3a53-4c23-b7d5-4bbed6f105f5",
   "metadata": {
    "jupyter": {
     "source_hidden": true
    },
    "tags": []
   },
   "outputs": [],
   "source": [
    "#check for outliers of LoanAmount again via boxplot \n",
    "fig = px.box(loan_df.LoanAmount, x=\"LoanAmount\", title =\"Distribution of Loan Amount\")\n",
    "fig.show()"
   ]
  },
  {
   "cell_type": "code",
   "execution_count": null,
   "id": "17a2e845-b538-43a9-9341-0d924d5e532a",
   "metadata": {},
   "outputs": [],
   "source": [
    "# find outliers of LoanAmount via IQR\n",
    "outliers = find_outliers_IQR(loan_df[\"LoanAmount\"])\n",
    "print(\"Number of outliers: \"+ str(len(outliers)))\n",
    "print(\"Max Outlier Value: \" + str(outliers.max()))\n",
    "print(\"Min Outlier Value: \" + str(outliers.min()))\n",
    "outliers"
   ]
  },
  {
   "cell_type": "code",
   "execution_count": null,
   "id": "e9610ce9-66b9-435b-a0a8-c04f88709013",
   "metadata": {},
   "outputs": [],
   "source": [
    "#loan_df[\"LoanAmount\"] = impute_outliers_IQR_mode(loan_df[\"LoanAmount\"])"
   ]
  },
  {
   "cell_type": "code",
   "execution_count": null,
   "id": "70c84ac9-7e58-4018-ab3e-72291d3bcce2",
   "metadata": {},
   "outputs": [],
   "source": []
  },
  {
   "cell_type": "markdown",
   "id": "ca7825b3-a1a6-4923-a696-68f6e459e418",
   "metadata": {},
   "source": [
    "### Check and Treat outliers of coappicant income"
   ]
  },
  {
   "cell_type": "code",
   "execution_count": null,
   "id": "f12762bb-0025-4d4a-9c26-4e62d9ab6a18",
   "metadata": {},
   "outputs": [],
   "source": [
    "# Check outliers of coapplicant income via histogram\n",
    "fig = px.histogram(loan_df.CoapplicantIncome, x=\"CoapplicantIncome\", title =\"Distribution of Coapplicant Income\")\n",
    "fig.show()"
   ]
  },
  {
   "cell_type": "code",
   "execution_count": null,
   "id": "02b9cee3-aa86-4ebf-8082-28ec47c9cc8e",
   "metadata": {},
   "outputs": [],
   "source": [
    "# Check outliers of coapplicant income via box plot\n",
    "fig = px.box(loan_df.CoapplicantIncome, x=\"CoapplicantIncome\", title =\"Distribution of Coapplicant Income\")\n",
    "fig.show()"
   ]
  },
  {
   "cell_type": "code",
   "execution_count": null,
   "id": "9249f144-28da-482d-915d-05ed69ea662f",
   "metadata": {},
   "outputs": [],
   "source": [
    "# find outliers of coapplicant Income via IQR\n",
    "outliers = find_outliers_IQR(loan_df[\"CoapplicantIncome\"])\n",
    "print(\"Number of outliers under 'CoapplicantIncome': \"+ str(len(outliers)))\n",
    "print(\"Max Outlier Value: \" + str(outliers.max()))\n",
    "print(\"Min Outlier Value: \" + str(outliers.min()))\n",
    "#outliers"
   ]
  },
  {
   "cell_type": "code",
   "execution_count": null,
   "id": "427aa306-4d2e-4c5f-8aa5-02ce794eb5a1",
   "metadata": {},
   "outputs": [],
   "source": [
    "#loan_df[\"ApplicantIncome\"] = drop_outliers_IQR(loan_df[\"ApplicantIncome\"])\n",
    "q1 = loan_df[\"CoapplicantIncome\"].quantile(0.25)\n",
    "q3 = loan_df[\"CoapplicantIncome\"].quantile(0.75)\n",
    "IQR = q3-q1\n",
    "upper_limit = loan_df[\"CoapplicantIncome\"][~(loan_df[\"CoapplicantIncome\"]>(q3+1.5*IQR))].max()\n",
    "lower_limit = loan_df[\"CoapplicantIncome\"][~(loan_df[\"CoapplicantIncome\"]>(q1-1.5*IQR))].min()\n",
    "loan_df[\"CoapplicantIncome\"] = np.where(loan_df[\"CoapplicantIncome\"] > upper_limit, upper_limit, np.where(loan_df[\"CoapplicantIncome\"]<lower_limit, lower_limit, loan_df[\"CoapplicantIncome\"]))\n"
   ]
  },
  {
   "cell_type": "code",
   "execution_count": null,
   "id": "bc391a82-7a36-4b82-85a5-90169c27beec",
   "metadata": {},
   "outputs": [],
   "source": [
    "# Check outliers of coapplicant income again via histogram\n",
    "fig = px.histogram(loan_df.CoapplicantIncome, x=\"CoapplicantIncome\", title =\"Distribution of Coapplicant Income\")\n",
    "fig.show()"
   ]
  },
  {
   "cell_type": "code",
   "execution_count": null,
   "id": "3d83b2c2-2b9b-4d8a-9335-63a53578fa43",
   "metadata": {},
   "outputs": [],
   "source": [
    "# Check outliers of applicant income again via box plot\n",
    "fig = px.box(loan_df.CoapplicantIncome, x=\"CoapplicantIncome\", title =\"Distribution of Coapplicant Income\")\n",
    "fig.show()"
   ]
  },
  {
   "cell_type": "code",
   "execution_count": null,
   "id": "6c3aa6a5-4eaa-44de-a7ea-d908d349fd6f",
   "metadata": {},
   "outputs": [],
   "source": [
    "# find outliers of Applicant Income again via IQR\n",
    "outliers = find_outliers_IQR(loan_df[\"CoapplicantIncome\"])\n",
    "print(\"Number of outliers: \"+ str(len(outliers)))\n",
    "print(\"Max Outlier Value: \" + str(outliers.max()))\n",
    "print(\"Min Outlier Value: \" + str(outliers.min()))\n",
    "outliers"
   ]
  },
  {
   "cell_type": "code",
   "execution_count": null,
   "id": "b978f3da-3d8b-4f54-9668-80826e809251",
   "metadata": {},
   "outputs": [],
   "source": [
    "#loan_df[\"ApplicantIncome\"] = impute_outliers_IQR_mode(loan_df[\"ApplicantIncome\"])\n"
   ]
  },
  {
   "cell_type": "code",
   "execution_count": null,
   "id": "f88c3331-9e03-41aa-ae31-0bd53b5e409d",
   "metadata": {},
   "outputs": [],
   "source": [
    "#loan_df[\"ApplicantIncome\"] = impute_outliers_IQR(loan_df[\"ApplicantIncome\"])"
   ]
  },
  {
   "cell_type": "code",
   "execution_count": null,
   "id": "dfe32a35-09f9-494a-a176-8d4648c4940f",
   "metadata": {},
   "outputs": [],
   "source": [
    "# Check outliers of applicant income again via histogram\n",
    "#fig = px.box(loan_df.ApplicantIncome, x=\"ApplicantIncome\", title =\"Distribution of Applicant Income\")\n",
    "#fig.show()"
   ]
  },
  {
   "cell_type": "markdown",
   "id": "76120e19-d8f5-41c4-a128-8ef5ef1ff415",
   "metadata": {},
   "source": [
    "### Change and treat applicant income "
   ]
  },
  {
   "cell_type": "code",
   "execution_count": null,
   "id": "c949d97b-5dbc-488d-b0a2-a92a59b10cc3",
   "metadata": {},
   "outputs": [],
   "source": [
    "# Check outliers of loan amount via histogram\n",
    "fig = px.histogram(loan_df.ApplicantIncome, x=\"ApplicantIncome\", title =\"Distribution of Applicant Income\")\n",
    "fig.show()"
   ]
  },
  {
   "cell_type": "code",
   "execution_count": null,
   "id": "3824ed9b-5fe3-4ce5-8927-3c2c8e54f3d9",
   "metadata": {},
   "outputs": [],
   "source": [
    "fig = px.box(loan_df.ApplicantIncome, x=\"ApplicantIncome\", title =\"Distribution of Applicant Income\")\n",
    "fig.show()"
   ]
  },
  {
   "cell_type": "code",
   "execution_count": null,
   "id": "29b5b68e-d97e-46ff-92ce-4134aa49b633",
   "metadata": {},
   "outputs": [],
   "source": [
    "# find outliers of Applicant Income again via IQR\n",
    "outliers = find_outliers_IQR(loan_df[\"ApplicantIncome\"])\n",
    "print(\"Number of outliers under 'ApplicantIncome: \"+ str(len(outliers)))\n",
    "print(\"Max Outlier Value: \" + str(outliers.max()))\n",
    "print(\"Min Outlier Value: \" + str(outliers.min()))\n",
    "#outliers"
   ]
  },
  {
   "cell_type": "code",
   "execution_count": null,
   "id": "34e77d94-25bd-4290-8ed2-887d21500cc7",
   "metadata": {},
   "outputs": [],
   "source": [
    "#cap outliers\n",
    "q1 = loan_df[\"ApplicantIncome\"].quantile(0.25)\n",
    "q3 = loan_df[\"ApplicantIncome\"].quantile(0.75)\n",
    "IQR = q3-q1\n",
    "upper_limit = loan_df[\"ApplicantIncome\"][~(loan_df[\"ApplicantIncome\"]>(q3+1.5*IQR))].max()\n",
    "lower_limit = loan_df[\"ApplicantIncome\"][~(loan_df[\"ApplicantIncome\"]>(q1-1.5*IQR))].min()\n",
    "loan_df[\"ApplicantIncome\"] = np.where(loan_df[\"ApplicantIncome\"] > upper_limit, upper_limit, np.where(loan_df[\"ApplicantIncome\"]<lower_limit, lower_limit, loan_df[\"ApplicantIncome\"]))\n"
   ]
  },
  {
   "cell_type": "code",
   "execution_count": null,
   "id": "d81af904-0719-4907-92d9-40b6c414cd55",
   "metadata": {},
   "outputs": [],
   "source": [
    "fig = px.box(loan_df.ApplicantIncome, x=\"ApplicantIncome\", title =\"Distribution of Applicant Income\")\n",
    "fig.show()"
   ]
  },
  {
   "cell_type": "code",
   "execution_count": null,
   "id": "43f084eb-ebe8-469d-8e35-31d7673a1308",
   "metadata": {},
   "outputs": [],
   "source": [
    "fig = px.histogram(loan_df.ApplicantIncome, x=\"ApplicantIncome\", title =\"Distribution of Applicant Income\")\n",
    "fig.show()"
   ]
  },
  {
   "cell_type": "code",
   "execution_count": null,
   "id": "7112af2c-16f0-4a45-bba6-de598701b550",
   "metadata": {},
   "outputs": [],
   "source": [
    "# find outliers of Applicant Income again via IQR\n",
    "outliers = find_outliers_IQR(loan_df[\"ApplicantIncome\"])\n",
    "print(\"Number of outliers: \"+ str(len(outliers)))\n",
    "print(\"Max Outlier Value: \" + str(outliers.max()))\n",
    "print(\"Min Outlier Value: \" + str(outliers.min()))\n",
    "outliers"
   ]
  },
  {
   "cell_type": "code",
   "execution_count": null,
   "id": "0120185f-8511-4c63-ba66-14eb6a6fddc1",
   "metadata": {},
   "outputs": [],
   "source": []
  },
  {
   "cell_type": "markdown",
   "id": "b6cf53cc",
   "metadata": {},
   "source": [
    "# Modeling Phase\n",
    "### Logistic Regression"
   ]
  },
  {
   "cell_type": "code",
   "execution_count": null,
   "id": "c495ce13",
   "metadata": {},
   "outputs": [],
   "source": [
    "loan_df.shape"
   ]
  },
  {
   "cell_type": "code",
   "execution_count": null,
   "id": "3f6a2df9",
   "metadata": {},
   "outputs": [],
   "source": [
    "# extract the feature matrix X and target variable y\n",
    "X = loan_df.drop(\"Loan_Status\", axis=1)\n",
    "y = loan_df[\"Loan_Status\"]"
   ]
  },
  {
   "cell_type": "code",
   "execution_count": null,
   "id": "a6092edb",
   "metadata": {},
   "outputs": [],
   "source": [
    "X.head(5)"
   ]
  },
  {
   "cell_type": "code",
   "execution_count": null,
   "id": "8d935fab-6f5e-4fa2-a3c9-c40184b128d2",
   "metadata": {},
   "outputs": [],
   "source": [
    "loan_df.info()"
   ]
  },
  {
   "cell_type": "code",
   "execution_count": null,
   "id": "7c1425c8",
   "metadata": {},
   "outputs": [],
   "source": [
    "# The different categories\n",
    "\n",
    "# Categorical features: These features have categories \n",
    "# => Gender, Married, Self_Employed, Credit_History   (This is the final reasult = Loan_Status)\n",
    "\n",
    "# Ordinal features: Variables in categorical features having some order involved \n",
    "# => Dependents, Education, Property_Area\n",
    "\n",
    "# Numerical features: These features have numerical values \n",
    "# => ApplicantIncome, CoapplicantIncome, LoanAmount, Loan_Amount_Term"
   ]
  },
  {
   "cell_type": "code",
   "execution_count": null,
   "id": "3919a6c3",
   "metadata": {},
   "outputs": [],
   "source": []
  },
  {
   "cell_type": "code",
   "execution_count": null,
   "id": "ee0bdce9",
   "metadata": {},
   "outputs": [],
   "source": [
    "X = pd.get_dummies(X, drop_first=True)"
   ]
  },
  {
   "cell_type": "code",
   "execution_count": null,
   "id": "d682b251",
   "metadata": {},
   "outputs": [],
   "source": [
    "X.head(5)"
   ]
  },
  {
   "cell_type": "code",
   "execution_count": null,
   "id": "499f8d7b",
   "metadata": {},
   "outputs": [],
   "source": [
    "# Training the dataset : training (60%) and validation (40%)\n",
    "    # What should be the split ?????\n",
    "X_train, X_test, y_train, y_test = train_test_split(X, y, test_size=0.4, random_state=42)"
   ]
  },
  {
   "cell_type": "code",
   "execution_count": null,
   "id": "d2f42356",
   "metadata": {},
   "outputs": [],
   "source": [
    "# Logistic Regression model\n",
    "model = LogisticRegression()\n",
    "\n",
    "# Fit it into the training data\n",
    "model.fit(X_train, y_train)\n",
    "\n",
    "# Predictions on the data\n",
    "y_pred = model.predict(X_test)\n",
    "\n",
    "# Accuracy\n",
    "accuracy = accuracy_score(y_test, y_pred)\n",
    "precision = precision_score(y_test, y_pred, pos_label = 'Y')\n",
    "recall = recall_score (y_test, y_pred, pos_label = 'Y')\n",
    "f1 = f1_score (y_test, y_pred,pos_label = 'Y')\n",
    "\n",
    "print(f\"Accuracy: {accuracy}\")\n",
    "print(f\"Precision: {precision}\")\n",
    "print(f\"Recall: {recall}\")\n",
    "print(f\"f1: {f1_score}\")\n",
    "\n",
    "print(classification_report(y_test, y_pred))\n",
    "\n",
    "\n",
    "# with null values filled with random (Option 1 for null)\n",
    "# Accuracy: 0.7357723577235772\n",
    "\n",
    "# with dropping the null values (Option 2 for null)\n",
    "# Accuracy: 0.8020833333333334\n",
    "\n",
    "#With null values filled with random and replace outliers with median \n",
    "#accuracy: 0.7723\n",
    "\n",
    "#with null values filled with mode (Option 3 for null)\n",
    "#0.7804878048780488\n",
    "\n",
    "#with both null values and outliers filled with mode\n",
    "#0.7845528455284553\n",
    "\n",
    "#Null values removed and outliers capped via IQR boundaries\n",
    "#0.8020304568527918\n",
    "\n",
    "#Null values removed\n",
    "#outliers capped IQR boundaries\n",
    "#gender removed \n",
    "#property_area variable changed to binary of semiurban or not\n",
    "# accuracy: 0.817258883248731\n",
    "\n",
    "#Null values removed\n",
    "#outliers capped IQR boundaries\n",
    "#gender removed \n",
    "#property_area variable changed to binary of semiurban or not\n",
    "#self-employed dropped\n",
    "# accuracy:0.8260869565217391\n",
    "\n",
    "#Null values removed\n",
    "#gender removed \n",
    "#property_area variable changed to binary of semiurban or not\n",
    "#self-employed dropped\n",
    "#dependents dropped\n",
    "#random seed = 42\n",
    "# accuracy: 0.8436018957345972\n"
   ]
  },
  {
   "cell_type": "code",
   "execution_count": null,
   "id": "0533ca91-0032-4ecb-9510-2cf0bae2e677",
   "metadata": {},
   "outputs": [],
   "source": []
  },
  {
   "cell_type": "code",
   "execution_count": null,
   "id": "ad05b325",
   "metadata": {},
   "outputs": [],
   "source": [
    "# .score() takes the input and output as arguments and returns the ratio \n",
    "# of the number of correct predictions to the number of observations.\n",
    "model.score(X_train, y_train)\n",
    "\n",
    "# with null values filled with random (Option 1 for null)\n",
    "# 0.7907608695652174\n",
    "\n",
    "# with dropping the null values (Option 2 for null)\n",
    "# 0.8263888888888888\n",
    "\n",
    "#with replace outliers with median\n",
    "#0.8098\n",
    "\n",
    "#with null values filled with mode (option 3 for null)\n",
    "#0.8288043478260869\n",
    "\n",
    "#with both null values and outliers filled with mode\n",
    "#0.8260869565217391\n",
    "\n",
    "#Null values removed and outliers capped via IQR boundaries\n",
    "#0.8067796610169492\n",
    "\n",
    "#Null values removed\n",
    "#outliers capped IQR boundaries\n",
    "#gender removed \n",
    "#property_area variable changed to binary of semiurban or not\n",
    "#training score: 0.8169491525423729\n",
    "\n",
    "#Null values removed\n",
    "#outliers capped IQR boundaries\n",
    "#gender removed \n",
    "#property_area variable changed to binary of semiurban or not\n",
    "#self-employed dropped\n",
    "#training score: 0.8064516129032258\n",
    "\n",
    "#Null values removed\n",
    "#outliers capped IQR boundaries\n",
    "#gender removed \n",
    "#property_area variable changed to binary of semiurban or not\n",
    "#self-employed dropped\n",
    "#applicant and coapplicant incomes dropped\n",
    "#training score: 0.8032258064516129\n",
    "\n",
    "#Null values removed\n",
    "#gender removed \n",
    "#property_area variable changed to binary of semiurban or not\n",
    "#self-employed dropped\n",
    "#dependents dropped \n",
    "#random seed = 42\n",
    "#training score: 0.8006329113924051\n"
   ]
  },
  {
   "cell_type": "code",
   "execution_count": null,
   "id": "9037e665",
   "metadata": {},
   "outputs": [],
   "source": []
  },
  {
   "cell_type": "code",
   "execution_count": null,
   "id": "cef05434",
   "metadata": {},
   "outputs": [],
   "source": []
  },
  {
   "cell_type": "code",
   "execution_count": null,
   "id": "5110146e",
   "metadata": {},
   "outputs": [],
   "source": [
    "# FYI things for final project\n",
    "# Create a ppt\n",
    "    # Mention whats the prob\n",
    "    # what are we working on\n",
    "    # graphs\n",
    "    # normal presentation (voice over)\n",
    "# no need to submit the code\n"
   ]
  }
 ],
 "metadata": {
  "kernelspec": {
   "display_name": "Python 3 (ipykernel)",
   "language": "python",
   "name": "python3"
  },
  "language_info": {
   "codemirror_mode": {
    "name": "ipython",
    "version": 3
   },
   "file_extension": ".py",
   "mimetype": "text/x-python",
   "name": "python",
   "nbconvert_exporter": "python",
   "pygments_lexer": "ipython3",
   "version": "3.9.13"
  }
 },
 "nbformat": 4,
 "nbformat_minor": 5
}
