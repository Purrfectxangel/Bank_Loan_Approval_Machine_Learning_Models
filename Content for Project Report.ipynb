{
 "cells": [
  {
   "cell_type": "markdown",
   "id": "a8ecf9fc",
   "metadata": {},
   "source": [
    "# MIS 637 Final Project\n",
    "## Predicting Loan approval using Decision Trees and Logistic Regression"
   ]
  },
  {
   "cell_type": "markdown",
   "id": "ae3d9fda",
   "metadata": {},
   "source": [
    "## Introduction\n",
    "<font color='red'>TO:DO need intro blurb </font>"
   ]
  },
  {
   "cell_type": "markdown",
   "id": "9a5ff49b",
   "metadata": {},
   "source": [
    "## Cross Industry Standard Process (CRISP-DM)\n",
    "- Business/Research Understanding Phase\n",
    "- Data Understanding Phase\n",
    "- Data Preparation Phase\n",
    "- Modeling Phase\n",
    "- Evaluation Phase\n",
    "- Deployment Phase\n",
    "\n",
    "<font color='red'>TO:DO need a CRISP diagram here </font>"
   ]
  },
  {
   "cell_type": "markdown",
   "id": "2ee84488",
   "metadata": {},
   "source": [
    "## Business Understanding\n",
    "#### What is the profound Question?\n",
    "Determine if a loan applicant will get their loan approved\n",
    "\n",
    "#### Goal:\n",
    "Using Decision Tree and Logistic Regression models to determine if an applicant will get their loan approved\n"
   ]
  },
  {
   "cell_type": "markdown",
   "id": "28f6cfa2",
   "metadata": {},
   "source": [
    "## Data Understanding\n",
    "#### Data Source:\n",
    "The data set was obtained from www.kaggle.com\n",
    "\n",
    "#### DataSet Details:\n",
    "The dataset contains 614 loan applicantions.\n",
    "The dataset has 13 attributes. 12 are independent attributes and 1 is the target attribute.\n",
    "The target attribute is the one that classifies the applicants if they got approved or not for the loan.\n",
    "\n",
    "#### Dataset Sample:\n",
    "<font color='red'>TO:DO insert snippet of data here </font>\n",
    "\n",
    "#### Dataset attributes description\n",
    "**Loan_ID** : Unique Loan ID <br>\n",
    "**Gender** : Male/ Female <br>\n",
    "**Married** : Applicant married (Y/N) <br>\n",
    "**Dependents** : Number of dependents <br>\n",
    "**Education** : Applicant Education (Graduate/ Under Graduate) <br>\n",
    "**Self_Employed** : Self employed (Y/N) <br>\n",
    "**ApplicantIncome** : Applicant income <br>\n",
    "**CoapplicantIncome** : Coapplicant income <br>\n",
    "**LoanAmount** : Loan amount in thousands <br>\n",
    "**Loan_Amount_Term** : Term of loan in months <br>\n",
    "**Credit_History** : 1 - has all debts paid, 0 - not paid <br>\n",
    "**Property_Area** : Urban/ Semi Urban/ Rural <br>\n",
    "**Loan_Status** : (Target) Loan approved (Y/N) <br>"
   ]
  },
  {
   "cell_type": "markdown",
   "id": "b2b627c0",
   "metadata": {},
   "source": [
    "## Data Preparation\n",
    "<br>\n",
    "Most of the data from the Kaggle website has been filled out. \n",
    "\n",
    "\n",
    "The following columns had NULL values in them <br>\n",
    "Gender, Married, Dependents, Self_Employed, LoanAmount, Loan_Amount_Term and Credit_History\n",
    "\n",
    "<br>\n",
    "\n",
    "<font color='red'> \n",
    "    TO:DO <br>\n",
    "    - Add the things we did with the data here <br>\n",
    "        - Which rows were dropped <br>\n",
    "        - Which columns had NULL values replaced <br>\n",
    "        - Which columns had to be dropped since they didn't contribute much <br>\n",
    "        - How did we handle outliers <br>\n",
    "    <br>\n",
    "    \n",
    "#### Final Data\n",
    "Add screenshot of data    \n",
    "</font>\n",
    "\n",
    "<br>\n",
    "\n",
    "#### Data division:\n",
    "The original dataset had 614 loan applications and it is divided into 2 set\n",
    "- Training set : which is used to develop the model. 80% of the data is used for this (X records)\n",
    "- Testing data : which is used to evaluate the model which was created from the training dataset. 20% of the data is used for this (X records)\n",
    "\n",
    "<font color='red'> TO:DO : make sure the % is right and update the X values after for the above </font> <br>\n"
   ]
  },
  {
   "cell_type": "markdown",
   "id": "640eaf1e",
   "metadata": {},
   "source": [
    "## Modeling\n",
    "#### Which algorithm?\n",
    "The target variable is categorical (yes/no) and it is not continuous. Therefore we went with 2 models Decision Tree and Logistic Regression\n"
   ]
  },
  {
   "cell_type": "markdown",
   "id": "3c2cecc0",
   "metadata": {},
   "source": [
    "#### Decision Tree ()\n",
    "\n",
    "<font color='red'> TO:DO : Insert blurb about decision tree </font> <br>\n"
   ]
  },
  {
   "cell_type": "code",
   "execution_count": null,
   "id": "42b2c686",
   "metadata": {},
   "outputs": [],
   "source": []
  },
  {
   "cell_type": "markdown",
   "id": "8c400266",
   "metadata": {},
   "source": [
    "#### Logistic Regression\n",
    "\n",
    "<font color='red'> TO:DO : Insert blurb about Logistic rRegression </font> <br>"
   ]
  },
  {
   "cell_type": "code",
   "execution_count": null,
   "id": "228c4382",
   "metadata": {},
   "outputs": [],
   "source": []
  },
  {
   "cell_type": "markdown",
   "id": "df779aeb",
   "metadata": {},
   "source": [
    "#### Which software ?\n",
    "We are using going to use Python. Python is one of the most popular machine learning languages. It has a huge variety of libraries and framework that can be used in building and training models."
   ]
  },
  {
   "cell_type": "markdown",
   "id": "8e9f5a37",
   "metadata": {},
   "source": [
    "## Evaluation\n",
    "- Based on the training data and results from both the models we can see that the attributes <font color='red'> Put the final columns we used in the model here </font> are the important factors in predicting if a loan applicant will get approved for their loan.\n",
    "- <font color='red'> Add some more info here </font>"
   ]
  },
  {
   "cell_type": "markdown",
   "id": "e9a4fea2",
   "metadata": {},
   "source": [
    "## References\n",
    "<font color=\"red\"> Add references we used </font>\n",
    "- Lecture Notes\n",
    "- "
   ]
  },
  {
   "cell_type": "markdown",
   "id": "2fcf3b6b",
   "metadata": {},
   "source": [
    "## The End"
   ]
  },
  {
   "cell_type": "code",
   "execution_count": null,
   "id": "8c4acdb9",
   "metadata": {},
   "outputs": [],
   "source": []
  },
  {
   "cell_type": "code",
   "execution_count": null,
   "id": "12819260",
   "metadata": {},
   "outputs": [],
   "source": []
  },
  {
   "cell_type": "code",
   "execution_count": null,
   "id": "a9491e9b",
   "metadata": {},
   "outputs": [],
   "source": []
  },
  {
   "cell_type": "code",
   "execution_count": null,
   "id": "1f0ab381",
   "metadata": {},
   "outputs": [],
   "source": []
  },
  {
   "cell_type": "code",
   "execution_count": null,
   "id": "3507d2dc",
   "metadata": {},
   "outputs": [],
   "source": []
  },
  {
   "cell_type": "code",
   "execution_count": null,
   "id": "a7e13a65",
   "metadata": {},
   "outputs": [],
   "source": []
  },
  {
   "cell_type": "code",
   "execution_count": null,
   "id": "f54587e4",
   "metadata": {},
   "outputs": [],
   "source": []
  },
  {
   "cell_type": "code",
   "execution_count": null,
   "id": "9932357a",
   "metadata": {},
   "outputs": [],
   "source": []
  },
  {
   "cell_type": "code",
   "execution_count": null,
   "id": "6e7d3db0",
   "metadata": {},
   "outputs": [],
   "source": []
  },
  {
   "cell_type": "code",
   "execution_count": null,
   "id": "d742bda0",
   "metadata": {},
   "outputs": [],
   "source": []
  },
  {
   "cell_type": "code",
   "execution_count": null,
   "id": "502427ba",
   "metadata": {},
   "outputs": [],
   "source": []
  },
  {
   "cell_type": "code",
   "execution_count": null,
   "id": "1265d514",
   "metadata": {},
   "outputs": [],
   "source": []
  },
  {
   "cell_type": "code",
   "execution_count": null,
   "id": "cc3df0dc",
   "metadata": {},
   "outputs": [],
   "source": []
  },
  {
   "cell_type": "code",
   "execution_count": null,
   "id": "b58121f5",
   "metadata": {},
   "outputs": [],
   "source": []
  },
  {
   "cell_type": "code",
   "execution_count": null,
   "id": "7d2b1d09",
   "metadata": {},
   "outputs": [],
   "source": []
  },
  {
   "cell_type": "code",
   "execution_count": null,
   "id": "4c23b09b",
   "metadata": {},
   "outputs": [],
   "source": []
  },
  {
   "cell_type": "code",
   "execution_count": null,
   "id": "f2e566a7",
   "metadata": {},
   "outputs": [],
   "source": []
  },
  {
   "cell_type": "code",
   "execution_count": null,
   "id": "092eabf9",
   "metadata": {},
   "outputs": [],
   "source": []
  },
  {
   "cell_type": "code",
   "execution_count": null,
   "id": "8d00452b",
   "metadata": {},
   "outputs": [],
   "source": []
  },
  {
   "cell_type": "code",
   "execution_count": null,
   "id": "db8b2216",
   "metadata": {},
   "outputs": [],
   "source": []
  },
  {
   "cell_type": "code",
   "execution_count": null,
   "id": "1ed4f07b",
   "metadata": {},
   "outputs": [],
   "source": []
  },
  {
   "cell_type": "code",
   "execution_count": null,
   "id": "bc4742f7",
   "metadata": {},
   "outputs": [],
   "source": []
  },
  {
   "cell_type": "code",
   "execution_count": null,
   "id": "2d8c067d",
   "metadata": {},
   "outputs": [],
   "source": []
  },
  {
   "cell_type": "code",
   "execution_count": null,
   "id": "1414fa31",
   "metadata": {},
   "outputs": [],
   "source": []
  },
  {
   "cell_type": "code",
   "execution_count": null,
   "id": "9d6ce22f",
   "metadata": {},
   "outputs": [],
   "source": []
  },
  {
   "cell_type": "code",
   "execution_count": null,
   "id": "37191007",
   "metadata": {},
   "outputs": [],
   "source": []
  },
  {
   "cell_type": "code",
   "execution_count": null,
   "id": "6b4c7c39",
   "metadata": {},
   "outputs": [],
   "source": []
  },
  {
   "cell_type": "code",
   "execution_count": null,
   "id": "eb2402b3",
   "metadata": {},
   "outputs": [],
   "source": []
  },
  {
   "cell_type": "code",
   "execution_count": null,
   "id": "6907acf5",
   "metadata": {},
   "outputs": [],
   "source": []
  },
  {
   "cell_type": "code",
   "execution_count": null,
   "id": "8ac53419",
   "metadata": {},
   "outputs": [],
   "source": []
  },
  {
   "cell_type": "code",
   "execution_count": null,
   "id": "5e77fdde",
   "metadata": {},
   "outputs": [],
   "source": []
  },
  {
   "cell_type": "code",
   "execution_count": null,
   "id": "d6896c7d",
   "metadata": {},
   "outputs": [],
   "source": []
  },
  {
   "cell_type": "code",
   "execution_count": null,
   "id": "8a0838af",
   "metadata": {},
   "outputs": [],
   "source": []
  },
  {
   "cell_type": "code",
   "execution_count": null,
   "id": "99960a50",
   "metadata": {},
   "outputs": [],
   "source": []
  },
  {
   "cell_type": "code",
   "execution_count": null,
   "id": "10c0c0d6",
   "metadata": {},
   "outputs": [],
   "source": []
  },
  {
   "cell_type": "code",
   "execution_count": null,
   "id": "49d8b235",
   "metadata": {},
   "outputs": [],
   "source": []
  },
  {
   "cell_type": "code",
   "execution_count": null,
   "id": "ce453d7e",
   "metadata": {},
   "outputs": [],
   "source": []
  },
  {
   "cell_type": "code",
   "execution_count": null,
   "id": "282ee9d3",
   "metadata": {},
   "outputs": [],
   "source": []
  },
  {
   "cell_type": "code",
   "execution_count": null,
   "id": "282f6f87",
   "metadata": {},
   "outputs": [],
   "source": []
  },
  {
   "cell_type": "code",
   "execution_count": null,
   "id": "acfddad8",
   "metadata": {},
   "outputs": [],
   "source": []
  },
  {
   "cell_type": "code",
   "execution_count": null,
   "id": "a45cf4a9",
   "metadata": {},
   "outputs": [],
   "source": []
  },
  {
   "cell_type": "code",
   "execution_count": null,
   "id": "023d8909",
   "metadata": {},
   "outputs": [],
   "source": []
  },
  {
   "cell_type": "code",
   "execution_count": null,
   "id": "f3e5d27f",
   "metadata": {},
   "outputs": [],
   "source": []
  },
  {
   "cell_type": "code",
   "execution_count": null,
   "id": "abd6ee6b",
   "metadata": {},
   "outputs": [],
   "source": []
  },
  {
   "cell_type": "code",
   "execution_count": null,
   "id": "f91245f3",
   "metadata": {},
   "outputs": [],
   "source": []
  },
  {
   "cell_type": "code",
   "execution_count": null,
   "id": "d95041cd",
   "metadata": {},
   "outputs": [],
   "source": []
  }
 ],
 "metadata": {
  "kernelspec": {
   "display_name": "Python 3 (ipykernel)",
   "language": "python",
   "name": "python3"
  },
  "language_info": {
   "codemirror_mode": {
    "name": "ipython",
    "version": 3
   },
   "file_extension": ".py",
   "mimetype": "text/x-python",
   "name": "python",
   "nbconvert_exporter": "python",
   "pygments_lexer": "ipython3",
   "version": "3.9.13"
  }
 },
 "nbformat": 4,
 "nbformat_minor": 5
}
