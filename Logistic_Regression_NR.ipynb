{
 "cells": [
  {
   "cell_type": "markdown",
   "id": "61388f9d",
   "metadata": {},
   "source": [
    "# MIS 637 - Final Project (Group 3)"
   ]
  },
  {
   "cell_type": "code",
   "execution_count": null,
   "id": "f91aad42",
   "metadata": {},
   "outputs": [],
   "source": []
  },
  {
   "cell_type": "code",
   "execution_count": 33,
   "id": "704d8627",
   "metadata": {},
   "outputs": [],
   "source": [
    "################################\n",
    "# Import the libraries\n",
    "################################\n",
    "\n",
    "import pandas as pd\n",
    "import numpy as np\n",
    "import matplotlib.pyplot as plt\n",
    "from sklearn.linear_model import LogisticRegression\n",
    "from sklearn.model_selection import train_test_split\n",
    "from sklearn.metrics import accuracy_score\n",
    "import seaborn as sns\n",
    "from sklearn.metrics import classification_report\n",
    "from scipy.stats import f_oneway"
   ]
  },
  {
   "cell_type": "code",
   "execution_count": 34,
   "id": "e450b775",
   "metadata": {},
   "outputs": [],
   "source": [
    "# Loan_ID\t\t\t\t\tUnique Loan ID\n",
    "# Gender\t\t\t\t\tMale/ Female\n",
    "# Married\t\t\t\t\tApplicant married (Y/N)\n",
    "# Dependents\t\t\t\tNumber of dependents\n",
    "# Education\t\t\t\t\tApplicant Education (Graduate/ Under Graduate)\n",
    "# Self_Employed\t\t\t\tSelf employed (Y/N)\n",
    "# ApplicantIncome\t\t\tApplicant income\n",
    "# CoapplicantIncome\t\t\tCoapplicant income\n",
    "# LoanAmount\t\t\t\tLoan amount in thousands\n",
    "# Loan_Amount_Term\t\t\tTerm of loan in months\n",
    "# Credit_History\t\t\t(1- has all debts paid, 0- not paid)\n",
    "# Property_Area\t\t\t\tUrban/ Semi Urban/ Rural\n",
    "# Loan_Status\t\t\t\t(Target) Loan approved (Y/N)\n"
   ]
  },
  {
   "cell_type": "code",
   "execution_count": 35,
   "id": "546bb2bb",
   "metadata": {},
   "outputs": [
    {
     "data": {
      "text/html": [
       "<div>\n",
       "<style scoped>\n",
       "    .dataframe tbody tr th:only-of-type {\n",
       "        vertical-align: middle;\n",
       "    }\n",
       "\n",
       "    .dataframe tbody tr th {\n",
       "        vertical-align: top;\n",
       "    }\n",
       "\n",
       "    .dataframe thead th {\n",
       "        text-align: right;\n",
       "    }\n",
       "</style>\n",
       "<table border=\"1\" class=\"dataframe\">\n",
       "  <thead>\n",
       "    <tr style=\"text-align: right;\">\n",
       "      <th></th>\n",
       "      <th>Loan_ID</th>\n",
       "      <th>Gender</th>\n",
       "      <th>Married</th>\n",
       "      <th>Dependents</th>\n",
       "      <th>Education</th>\n",
       "      <th>Self_Employed</th>\n",
       "      <th>ApplicantIncome</th>\n",
       "      <th>CoapplicantIncome</th>\n",
       "      <th>LoanAmount</th>\n",
       "      <th>Loan_Amount_Term</th>\n",
       "      <th>Credit_History</th>\n",
       "      <th>Property_Area</th>\n",
       "      <th>Loan_Status</th>\n",
       "    </tr>\n",
       "  </thead>\n",
       "  <tbody>\n",
       "    <tr>\n",
       "      <th>0</th>\n",
       "      <td>LP001002</td>\n",
       "      <td>Male</td>\n",
       "      <td>No</td>\n",
       "      <td>0</td>\n",
       "      <td>Graduate</td>\n",
       "      <td>No</td>\n",
       "      <td>5849</td>\n",
       "      <td>0.0</td>\n",
       "      <td>NaN</td>\n",
       "      <td>360.0</td>\n",
       "      <td>1.0</td>\n",
       "      <td>Urban</td>\n",
       "      <td>Y</td>\n",
       "    </tr>\n",
       "    <tr>\n",
       "      <th>1</th>\n",
       "      <td>LP001003</td>\n",
       "      <td>Male</td>\n",
       "      <td>Yes</td>\n",
       "      <td>1</td>\n",
       "      <td>Graduate</td>\n",
       "      <td>No</td>\n",
       "      <td>4583</td>\n",
       "      <td>1508.0</td>\n",
       "      <td>128.0</td>\n",
       "      <td>360.0</td>\n",
       "      <td>1.0</td>\n",
       "      <td>Rural</td>\n",
       "      <td>N</td>\n",
       "    </tr>\n",
       "    <tr>\n",
       "      <th>2</th>\n",
       "      <td>LP001005</td>\n",
       "      <td>Male</td>\n",
       "      <td>Yes</td>\n",
       "      <td>0</td>\n",
       "      <td>Graduate</td>\n",
       "      <td>Yes</td>\n",
       "      <td>3000</td>\n",
       "      <td>0.0</td>\n",
       "      <td>66.0</td>\n",
       "      <td>360.0</td>\n",
       "      <td>1.0</td>\n",
       "      <td>Urban</td>\n",
       "      <td>Y</td>\n",
       "    </tr>\n",
       "    <tr>\n",
       "      <th>3</th>\n",
       "      <td>LP001006</td>\n",
       "      <td>Male</td>\n",
       "      <td>Yes</td>\n",
       "      <td>0</td>\n",
       "      <td>Not Graduate</td>\n",
       "      <td>No</td>\n",
       "      <td>2583</td>\n",
       "      <td>2358.0</td>\n",
       "      <td>120.0</td>\n",
       "      <td>360.0</td>\n",
       "      <td>1.0</td>\n",
       "      <td>Urban</td>\n",
       "      <td>Y</td>\n",
       "    </tr>\n",
       "    <tr>\n",
       "      <th>4</th>\n",
       "      <td>LP001008</td>\n",
       "      <td>Male</td>\n",
       "      <td>No</td>\n",
       "      <td>0</td>\n",
       "      <td>Graduate</td>\n",
       "      <td>No</td>\n",
       "      <td>6000</td>\n",
       "      <td>0.0</td>\n",
       "      <td>141.0</td>\n",
       "      <td>360.0</td>\n",
       "      <td>1.0</td>\n",
       "      <td>Urban</td>\n",
       "      <td>Y</td>\n",
       "    </tr>\n",
       "  </tbody>\n",
       "</table>\n",
       "</div>"
      ],
      "text/plain": [
       "    Loan_ID Gender Married Dependents     Education Self_Employed  \\\n",
       "0  LP001002   Male      No          0      Graduate            No   \n",
       "1  LP001003   Male     Yes          1      Graduate            No   \n",
       "2  LP001005   Male     Yes          0      Graduate           Yes   \n",
       "3  LP001006   Male     Yes          0  Not Graduate            No   \n",
       "4  LP001008   Male      No          0      Graduate            No   \n",
       "\n",
       "   ApplicantIncome  CoapplicantIncome  LoanAmount  Loan_Amount_Term  \\\n",
       "0             5849                0.0         NaN             360.0   \n",
       "1             4583             1508.0       128.0             360.0   \n",
       "2             3000                0.0        66.0             360.0   \n",
       "3             2583             2358.0       120.0             360.0   \n",
       "4             6000                0.0       141.0             360.0   \n",
       "\n",
       "   Credit_History Property_Area Loan_Status  \n",
       "0             1.0         Urban           Y  \n",
       "1             1.0         Rural           N  \n",
       "2             1.0         Urban           Y  \n",
       "3             1.0         Urban           Y  \n",
       "4             1.0         Urban           Y  "
      ]
     },
     "execution_count": 35,
     "metadata": {},
     "output_type": "execute_result"
    }
   ],
   "source": [
    "# Load the data\n",
    "main_loan_df = pd.read_csv('Loan_Data.csv')\n",
    "\n",
    "# Make sure that the result is as expected\n",
    "main_loan_df.head(5)"
   ]
  },
  {
   "cell_type": "code",
   "execution_count": 36,
   "id": "d08b7156",
   "metadata": {},
   "outputs": [],
   "source": [
    "# copying data to new variables \n",
    "loan_df = main_loan_df.copy()"
   ]
  },
  {
   "cell_type": "code",
   "execution_count": 37,
   "id": "744de619",
   "metadata": {},
   "outputs": [
    {
     "data": {
      "text/html": [
       "<div>\n",
       "<style scoped>\n",
       "    .dataframe tbody tr th:only-of-type {\n",
       "        vertical-align: middle;\n",
       "    }\n",
       "\n",
       "    .dataframe tbody tr th {\n",
       "        vertical-align: top;\n",
       "    }\n",
       "\n",
       "    .dataframe thead th {\n",
       "        text-align: right;\n",
       "    }\n",
       "</style>\n",
       "<table border=\"1\" class=\"dataframe\">\n",
       "  <thead>\n",
       "    <tr style=\"text-align: right;\">\n",
       "      <th></th>\n",
       "      <th>Loan_ID</th>\n",
       "      <th>Gender</th>\n",
       "      <th>Married</th>\n",
       "      <th>Dependents</th>\n",
       "      <th>Education</th>\n",
       "      <th>Self_Employed</th>\n",
       "      <th>ApplicantIncome</th>\n",
       "      <th>CoapplicantIncome</th>\n",
       "      <th>LoanAmount</th>\n",
       "      <th>Loan_Amount_Term</th>\n",
       "      <th>Credit_History</th>\n",
       "      <th>Property_Area</th>\n",
       "      <th>Loan_Status</th>\n",
       "    </tr>\n",
       "  </thead>\n",
       "  <tbody>\n",
       "    <tr>\n",
       "      <th>0</th>\n",
       "      <td>LP001002</td>\n",
       "      <td>Male</td>\n",
       "      <td>No</td>\n",
       "      <td>0</td>\n",
       "      <td>Graduate</td>\n",
       "      <td>No</td>\n",
       "      <td>5849</td>\n",
       "      <td>0.0</td>\n",
       "      <td>NaN</td>\n",
       "      <td>360.0</td>\n",
       "      <td>1.0</td>\n",
       "      <td>Urban</td>\n",
       "      <td>Y</td>\n",
       "    </tr>\n",
       "    <tr>\n",
       "      <th>1</th>\n",
       "      <td>LP001003</td>\n",
       "      <td>Male</td>\n",
       "      <td>Yes</td>\n",
       "      <td>1</td>\n",
       "      <td>Graduate</td>\n",
       "      <td>No</td>\n",
       "      <td>4583</td>\n",
       "      <td>1508.0</td>\n",
       "      <td>128.0</td>\n",
       "      <td>360.0</td>\n",
       "      <td>1.0</td>\n",
       "      <td>Rural</td>\n",
       "      <td>N</td>\n",
       "    </tr>\n",
       "    <tr>\n",
       "      <th>2</th>\n",
       "      <td>LP001005</td>\n",
       "      <td>Male</td>\n",
       "      <td>Yes</td>\n",
       "      <td>0</td>\n",
       "      <td>Graduate</td>\n",
       "      <td>Yes</td>\n",
       "      <td>3000</td>\n",
       "      <td>0.0</td>\n",
       "      <td>66.0</td>\n",
       "      <td>360.0</td>\n",
       "      <td>1.0</td>\n",
       "      <td>Urban</td>\n",
       "      <td>Y</td>\n",
       "    </tr>\n",
       "    <tr>\n",
       "      <th>3</th>\n",
       "      <td>LP001006</td>\n",
       "      <td>Male</td>\n",
       "      <td>Yes</td>\n",
       "      <td>0</td>\n",
       "      <td>Not Graduate</td>\n",
       "      <td>No</td>\n",
       "      <td>2583</td>\n",
       "      <td>2358.0</td>\n",
       "      <td>120.0</td>\n",
       "      <td>360.0</td>\n",
       "      <td>1.0</td>\n",
       "      <td>Urban</td>\n",
       "      <td>Y</td>\n",
       "    </tr>\n",
       "    <tr>\n",
       "      <th>4</th>\n",
       "      <td>LP001008</td>\n",
       "      <td>Male</td>\n",
       "      <td>No</td>\n",
       "      <td>0</td>\n",
       "      <td>Graduate</td>\n",
       "      <td>No</td>\n",
       "      <td>6000</td>\n",
       "      <td>0.0</td>\n",
       "      <td>141.0</td>\n",
       "      <td>360.0</td>\n",
       "      <td>1.0</td>\n",
       "      <td>Urban</td>\n",
       "      <td>Y</td>\n",
       "    </tr>\n",
       "  </tbody>\n",
       "</table>\n",
       "</div>"
      ],
      "text/plain": [
       "    Loan_ID Gender Married Dependents     Education Self_Employed  \\\n",
       "0  LP001002   Male      No          0      Graduate            No   \n",
       "1  LP001003   Male     Yes          1      Graduate            No   \n",
       "2  LP001005   Male     Yes          0      Graduate           Yes   \n",
       "3  LP001006   Male     Yes          0  Not Graduate            No   \n",
       "4  LP001008   Male      No          0      Graduate            No   \n",
       "\n",
       "   ApplicantIncome  CoapplicantIncome  LoanAmount  Loan_Amount_Term  \\\n",
       "0             5849                0.0         NaN             360.0   \n",
       "1             4583             1508.0       128.0             360.0   \n",
       "2             3000                0.0        66.0             360.0   \n",
       "3             2583             2358.0       120.0             360.0   \n",
       "4             6000                0.0       141.0             360.0   \n",
       "\n",
       "   Credit_History Property_Area Loan_Status  \n",
       "0             1.0         Urban           Y  \n",
       "1             1.0         Rural           N  \n",
       "2             1.0         Urban           Y  \n",
       "3             1.0         Urban           Y  \n",
       "4             1.0         Urban           Y  "
      ]
     },
     "execution_count": 37,
     "metadata": {},
     "output_type": "execute_result"
    }
   ],
   "source": [
    "loan_df.head(5)"
   ]
  },
  {
   "cell_type": "code",
   "execution_count": 38,
   "id": "c2d9497a",
   "metadata": {},
   "outputs": [],
   "source": [
    "# drop unwanted column \n",
    "loan_df = loan_df.drop(columns = ['Loan_ID'], axis=1)\n",
    "# loan_df = loan_df.drop(columns = ['Gender'], axis=1)\n",
    "# loan_df = loan_df.drop(columns = ['Property_Area'], axis=1)"
   ]
  },
  {
   "cell_type": "code",
   "execution_count": 39,
   "id": "ec4541e8",
   "metadata": {},
   "outputs": [
    {
     "data": {
      "text/plain": [
       "(614, 12)"
      ]
     },
     "execution_count": 39,
     "metadata": {},
     "output_type": "execute_result"
    }
   ],
   "source": [
    "loan_df.shape"
   ]
  },
  {
   "cell_type": "code",
   "execution_count": null,
   "id": "14ef0cd7",
   "metadata": {},
   "outputs": [],
   "source": []
  },
  {
   "cell_type": "code",
   "execution_count": null,
   "id": "b0e90b3f",
   "metadata": {},
   "outputs": [],
   "source": []
  },
  {
   "cell_type": "code",
   "execution_count": 40,
   "id": "f0e39aa9",
   "metadata": {},
   "outputs": [
    {
     "name": "stdout",
     "output_type": "stream",
     "text": [
      "<class 'pandas.core.frame.DataFrame'>\n",
      "RangeIndex: 614 entries, 0 to 613\n",
      "Data columns (total 12 columns):\n",
      " #   Column             Non-Null Count  Dtype  \n",
      "---  ------             --------------  -----  \n",
      " 0   Gender             601 non-null    object \n",
      " 1   Married            611 non-null    object \n",
      " 2   Dependents         599 non-null    object \n",
      " 3   Education          614 non-null    object \n",
      " 4   Self_Employed      582 non-null    object \n",
      " 5   ApplicantIncome    614 non-null    int64  \n",
      " 6   CoapplicantIncome  614 non-null    float64\n",
      " 7   LoanAmount         592 non-null    float64\n",
      " 8   Loan_Amount_Term   600 non-null    float64\n",
      " 9   Credit_History     564 non-null    float64\n",
      " 10  Property_Area      614 non-null    object \n",
      " 11  Loan_Status        614 non-null    object \n",
      "dtypes: float64(4), int64(1), object(7)\n",
      "memory usage: 57.7+ KB\n"
     ]
    }
   ],
   "source": [
    "loan_df.info()"
   ]
  },
  {
   "cell_type": "code",
   "execution_count": null,
   "id": "e6e6ac39",
   "metadata": {},
   "outputs": [],
   "source": []
  },
  {
   "cell_type": "code",
   "execution_count": null,
   "id": "61ffca4f",
   "metadata": {},
   "outputs": [],
   "source": []
  },
  {
   "cell_type": "code",
   "execution_count": null,
   "id": "7772776d",
   "metadata": {},
   "outputs": [],
   "source": []
  },
  {
   "cell_type": "code",
   "execution_count": 41,
   "id": "04f55eb9",
   "metadata": {},
   "outputs": [
    {
     "data": {
      "text/plain": [
       "Y    422\n",
       "N    192\n",
       "Name: Loan_Status, dtype: int64"
      ]
     },
     "execution_count": 41,
     "metadata": {},
     "output_type": "execute_result"
    }
   ],
   "source": [
    "# check the loan approval status \n",
    "loan_df['Loan_Status'].value_counts()"
   ]
  },
  {
   "cell_type": "code",
   "execution_count": null,
   "id": "237e5cdc",
   "metadata": {},
   "outputs": [],
   "source": [
    "# get a % of approved vs non-approved\n",
    "loan_df['Loan_Status'].value_counts(normalize=True)"
   ]
  },
  {
   "cell_type": "markdown",
   "id": "3c457d68",
   "metadata": {},
   "source": [
    "Looks like 422 people (68.72%) out of 614 people got approved for a loan"
   ]
  },
  {
   "cell_type": "code",
   "execution_count": null,
   "id": "0943b877",
   "metadata": {},
   "outputs": [],
   "source": [
    "loan_df['Loan_Status'].value_counts().plot.bar()"
   ]
  },
  {
   "cell_type": "code",
   "execution_count": null,
   "id": "40912273",
   "metadata": {},
   "outputs": [],
   "source": [
    "loan_df['Gender'].value_counts(normalize=True)"
   ]
  },
  {
   "cell_type": "code",
   "execution_count": null,
   "id": "644ea0a0",
   "metadata": {},
   "outputs": [],
   "source": [
    "loan_df['Married'].value_counts(normalize=True)"
   ]
  },
  {
   "cell_type": "code",
   "execution_count": null,
   "id": "12dbe287",
   "metadata": {},
   "outputs": [],
   "source": [
    "loan_df['Self_Employed'].value_counts(normalize=True)"
   ]
  },
  {
   "cell_type": "code",
   "execution_count": null,
   "id": "238cddfd",
   "metadata": {},
   "outputs": [],
   "source": [
    "loan_df['Credit_History'].value_counts(normalize=True)"
   ]
  },
  {
   "cell_type": "code",
   "execution_count": null,
   "id": "ce378210",
   "metadata": {},
   "outputs": [],
   "source": []
  },
  {
   "cell_type": "code",
   "execution_count": 42,
   "id": "27f73e91",
   "metadata": {},
   "outputs": [
    {
     "data": {
      "text/plain": [
       "Gender               13\n",
       "Married               3\n",
       "Dependents           15\n",
       "Education             0\n",
       "Self_Employed        32\n",
       "ApplicantIncome       0\n",
       "CoapplicantIncome     0\n",
       "LoanAmount           22\n",
       "Loan_Amount_Term     14\n",
       "Credit_History       50\n",
       "Property_Area         0\n",
       "Loan_Status           0\n",
       "dtype: int64"
      ]
     },
     "execution_count": 42,
     "metadata": {},
     "output_type": "execute_result"
    }
   ],
   "source": [
    "# Checking for null values in the columns\n",
    "loan_df.isnull().sum()"
   ]
  },
  {
   "cell_type": "code",
   "execution_count": null,
   "id": "3539de60",
   "metadata": {},
   "outputs": [],
   "source": []
  },
  {
   "cell_type": "markdown",
   "id": "7db985ce",
   "metadata": {},
   "source": [
    "# Option 1 (Filling the Null values with random values)"
   ]
  },
  {
   "cell_type": "code",
   "execution_count": null,
   "id": "7580096b",
   "metadata": {},
   "outputs": [],
   "source": [
    "loan_df.Gender.value_counts()"
   ]
  },
  {
   "cell_type": "code",
   "execution_count": null,
   "id": "1d46472e",
   "metadata": {},
   "outputs": [],
   "source": [
    "# get the number of missing values in the Gender column\n",
    "num_missing = loan_df[\"Gender\"].isnull().sum()\n",
    "\n",
    "# generate an array of random values with the same length as the number of missing values\n",
    "random_values = np.random.choice([\"Male\", \"Female\"], size=num_missing)\n",
    "\n",
    "# fill in the missing values with the random values\n",
    "loan_df.loc[loan_df[\"Gender\"].isnull(), \"Gender\"] = random_values"
   ]
  },
  {
   "cell_type": "code",
   "execution_count": null,
   "id": "ab19371a",
   "metadata": {},
   "outputs": [],
   "source": [
    "loan_df.Gender.value_counts()"
   ]
  },
  {
   "cell_type": "code",
   "execution_count": null,
   "id": "1dd5ac1a",
   "metadata": {},
   "outputs": [],
   "source": []
  },
  {
   "cell_type": "code",
   "execution_count": null,
   "id": "2b292e2e",
   "metadata": {},
   "outputs": [],
   "source": [
    "loan_df.Married.value_counts()"
   ]
  },
  {
   "cell_type": "code",
   "execution_count": null,
   "id": "2523f13c",
   "metadata": {},
   "outputs": [],
   "source": [
    "# get the number of missing values in the Gender column\n",
    "num_missing = loan_df[\"Married\"].isnull().sum()\n",
    "\n",
    "# generate an array of random values with the same length as the number of missing values\n",
    "random_values = np.random.choice([\"Yes\", \"No\"], size=num_missing)\n",
    "\n",
    "# fill in the missing values with the random values\n",
    "loan_df.loc[loan_df[\"Married\"].isnull(), \"Married\"] = random_values"
   ]
  },
  {
   "cell_type": "code",
   "execution_count": null,
   "id": "c010eb1e",
   "metadata": {},
   "outputs": [],
   "source": [
    "loan_df.Married.value_counts()"
   ]
  },
  {
   "cell_type": "code",
   "execution_count": null,
   "id": "32d8f5e9",
   "metadata": {},
   "outputs": [],
   "source": []
  },
  {
   "cell_type": "code",
   "execution_count": null,
   "id": "75e885b6",
   "metadata": {},
   "outputs": [],
   "source": [
    "loan_df.Dependents.value_counts()"
   ]
  },
  {
   "cell_type": "code",
   "execution_count": null,
   "id": "49d3b0f2",
   "metadata": {},
   "outputs": [],
   "source": [
    "# get the number of missing values in the Gender column\n",
    "num_missing = loan_df[\"Dependents\"].isnull().sum()\n",
    "\n",
    "# generate an array of random values with the same length as the number of missing values\n",
    "random_values = np.random.choice([\"0\", \"1\", \"2\", \"3+\"], size=num_missing)\n",
    "\n",
    "# fill in the missing values with the random values\n",
    "loan_df.loc[loan_df[\"Dependents\"].isnull(), \"Dependents\"] = random_values"
   ]
  },
  {
   "cell_type": "code",
   "execution_count": null,
   "id": "926c312e",
   "metadata": {},
   "outputs": [],
   "source": [
    "loan_df.Dependents.value_counts()"
   ]
  },
  {
   "cell_type": "code",
   "execution_count": null,
   "id": "05a44579",
   "metadata": {},
   "outputs": [],
   "source": []
  },
  {
   "cell_type": "code",
   "execution_count": null,
   "id": "c8f3cce6",
   "metadata": {},
   "outputs": [],
   "source": [
    "loan_df.Self_Employed.value_counts()"
   ]
  },
  {
   "cell_type": "code",
   "execution_count": null,
   "id": "e5041a4f",
   "metadata": {},
   "outputs": [],
   "source": [
    "# get the number of missing values in the Gender column\n",
    "num_missing = loan_df[\"Self_Employed\"].isnull().sum()\n",
    "\n",
    "# generate an array of random values with the same length as the number of missing values\n",
    "random_values = np.random.choice([\"Yes\", \"No\"], size=num_missing)\n",
    "\n",
    "# fill in the missing values with the random values\n",
    "loan_df.loc[loan_df[\"Self_Employed\"].isnull(), \"Self_Employed\"] = random_values"
   ]
  },
  {
   "cell_type": "code",
   "execution_count": null,
   "id": "343fff50",
   "metadata": {},
   "outputs": [],
   "source": [
    "loan_df.Self_Employed.value_counts()"
   ]
  },
  {
   "cell_type": "code",
   "execution_count": null,
   "id": "912d4ed5",
   "metadata": {},
   "outputs": [],
   "source": []
  },
  {
   "cell_type": "code",
   "execution_count": null,
   "id": "6df927c1",
   "metadata": {},
   "outputs": [],
   "source": [
    "loan_df.LoanAmount.value_counts()"
   ]
  },
  {
   "cell_type": "code",
   "execution_count": null,
   "id": "c5bc9a41",
   "metadata": {},
   "outputs": [],
   "source": [
    "loan_df.LoanAmount.fillna(loan_df.LoanAmount.median(),inplace=True)"
   ]
  },
  {
   "cell_type": "code",
   "execution_count": null,
   "id": "a645b25d",
   "metadata": {},
   "outputs": [],
   "source": [
    "loan_df.LoanAmount.value_counts()"
   ]
  },
  {
   "cell_type": "code",
   "execution_count": null,
   "id": "464e9b23",
   "metadata": {},
   "outputs": [],
   "source": []
  },
  {
   "cell_type": "code",
   "execution_count": null,
   "id": "4390329a",
   "metadata": {},
   "outputs": [],
   "source": [
    "loan_df.Loan_Amount_Term.value_counts()"
   ]
  },
  {
   "cell_type": "code",
   "execution_count": null,
   "id": "8555b33a",
   "metadata": {},
   "outputs": [],
   "source": [
    "loan_df.Loan_Amount_Term.fillna(loan_df.Loan_Amount_Term.mean(),inplace=True)"
   ]
  },
  {
   "cell_type": "code",
   "execution_count": null,
   "id": "b320d284",
   "metadata": {},
   "outputs": [],
   "source": [
    "loan_df.Loan_Amount_Term.value_counts()"
   ]
  },
  {
   "cell_type": "code",
   "execution_count": null,
   "id": "6bc84495",
   "metadata": {},
   "outputs": [],
   "source": []
  },
  {
   "cell_type": "code",
   "execution_count": null,
   "id": "e022e59d",
   "metadata": {},
   "outputs": [],
   "source": [
    "loan_df.Credit_History.value_counts()"
   ]
  },
  {
   "cell_type": "code",
   "execution_count": null,
   "id": "eff6b622",
   "metadata": {},
   "outputs": [],
   "source": [
    "# get the number of missing values in the Gender column\n",
    "num_missing = loan_df[\"Credit_History\"].isnull().sum()\n",
    "\n",
    "# generate an array of random values with the same length as the number of missing values\n",
    "random_values = np.random.choice([1, 0], size=num_missing)\n",
    "\n",
    "# fill in the missing values with the random values\n",
    "loan_df.loc[loan_df[\"Credit_History\"].isnull(), \"Credit_History\"] = random_values"
   ]
  },
  {
   "cell_type": "code",
   "execution_count": null,
   "id": "55e494da",
   "metadata": {},
   "outputs": [],
   "source": [
    "loan_df.Credit_History.value_counts()"
   ]
  },
  {
   "cell_type": "code",
   "execution_count": null,
   "id": "bedeee9e",
   "metadata": {},
   "outputs": [],
   "source": []
  },
  {
   "cell_type": "markdown",
   "id": "f1667aea",
   "metadata": {},
   "source": [
    "# Option 2 (Dropping the null values)"
   ]
  },
  {
   "cell_type": "code",
   "execution_count": 6,
   "id": "7b04daeb",
   "metadata": {},
   "outputs": [],
   "source": [
    "# drop rows with missing values\n",
    "    # since we have NaN values the regression will fail\n",
    "loan_df.dropna(inplace=True) "
   ]
  },
  {
   "cell_type": "code",
   "execution_count": null,
   "id": "f02722af",
   "metadata": {},
   "outputs": [],
   "source": []
  },
  {
   "cell_type": "code",
   "execution_count": null,
   "id": "9fc3f74d",
   "metadata": {},
   "outputs": [],
   "source": []
  },
  {
   "cell_type": "code",
   "execution_count": null,
   "id": "3e412957",
   "metadata": {},
   "outputs": [],
   "source": []
  },
  {
   "cell_type": "code",
   "execution_count": null,
   "id": "4b31609d",
   "metadata": {},
   "outputs": [],
   "source": []
  },
  {
   "cell_type": "markdown",
   "id": "2f21567d",
   "metadata": {},
   "source": [
    "# Logistic Regression"
   ]
  },
  {
   "cell_type": "code",
   "execution_count": null,
   "id": "18d386ac",
   "metadata": {},
   "outputs": [],
   "source": [
    "loan_df.shape"
   ]
  },
  {
   "cell_type": "code",
   "execution_count": null,
   "id": "3f6a2df9",
   "metadata": {},
   "outputs": [],
   "source": [
    "# extract the feature matrix X and target variable y\n",
    "X = loan_df.drop(\"Loan_Status\", axis=1)\n",
    "X = X.drop(\"ApplicantIncome\", axis = 1)\n",
    "y = loan_df[\"Loan_Status\"]"
   ]
  },
  {
   "cell_type": "code",
   "execution_count": null,
   "id": "a6092edb",
   "metadata": {},
   "outputs": [],
   "source": [
    "X.head(5)"
   ]
  },
  {
   "cell_type": "code",
   "execution_count": null,
   "id": "7c1425c8",
   "metadata": {},
   "outputs": [],
   "source": [
    "# The different categories\n",
    "\n",
    "# Categorical features: These features have categories \n",
    "# => Gender, Married, Self_Employed, Credit_History   (This is the final reasult = Loan_Status)\n",
    "\n",
    "# Ordinal features: Variables in categorical features having some order involved \n",
    "# => Dependents, Education, Property_Area\n",
    "\n",
    "# Numerical features: These features have numerical values \n",
    "# => ApplicantIncome, CoapplicantIncome, LoanAmount, Loan_Amount_Term"
   ]
  },
  {
   "cell_type": "code",
   "execution_count": null,
   "id": "b4728a8f",
   "metadata": {},
   "outputs": [],
   "source": []
  },
  {
   "cell_type": "code",
   "execution_count": null,
   "id": "60187913",
   "metadata": {},
   "outputs": [],
   "source": []
  },
  {
   "cell_type": "code",
   "execution_count": null,
   "id": "3919a6c3",
   "metadata": {},
   "outputs": [],
   "source": []
  },
  {
   "cell_type": "code",
   "execution_count": null,
   "id": "ee0bdce9",
   "metadata": {},
   "outputs": [],
   "source": [
    "X = pd.get_dummies(X, drop_first=True)"
   ]
  },
  {
   "cell_type": "code",
   "execution_count": null,
   "id": "508b27b4",
   "metadata": {},
   "outputs": [],
   "source": [
    "X.head(5)"
   ]
  },
  {
   "cell_type": "code",
   "execution_count": null,
   "id": "499f8d7b",
   "metadata": {},
   "outputs": [],
   "source": [
    "# Training the dataset : training (60%) and validation (40%)\n",
    "    # What should be the split ?????\n",
    "X_train, X_test, y_train, y_test = train_test_split(X, y, test_size=0.4, random_state=1)"
   ]
  },
  {
   "cell_type": "code",
   "execution_count": null,
   "id": "d2f42356",
   "metadata": {},
   "outputs": [],
   "source": [
    "# Logistic Regression model\n",
    "model = LogisticRegression()\n",
    "\n",
    "# Fit it into the training data\n",
    "model.fit(X_train, y_train)\n",
    "\n",
    "# Predictions on the data\n",
    "y_pred = model.predict(X_test)\n",
    "\n",
    "# Accuracy\n",
    "accuracy = accuracy_score(y_test, y_pred)\n",
    "print(f\"Accuracy: {accuracy}\")\n",
    "\n",
    "print(classification_report(y_test, y_pred))\n",
    "\n",
    "# with null values filled with random (Option 1)\n",
    "# Accuracy: 0.7357723577235772\n",
    "\n",
    "# with dropping the null values (Option 2)\n",
    "# Accuracy: 0.8020833333333334"
   ]
  },
  {
   "cell_type": "code",
   "execution_count": null,
   "id": "ad05b325",
   "metadata": {},
   "outputs": [],
   "source": [
    "# .score() takes the input and output as arguments and returns the ratio \n",
    "# of the number of correct predictions to the number of observations.\n",
    "model.score(X_train, y_train)\n",
    "\n",
    "# with null values filled with random (Option 1)\n",
    "# 0.7907608695652174\n",
    "\n",
    "# with dropping the null values (Option 2)\n",
    "# 0.8263888888888888\n"
   ]
  },
  {
   "cell_type": "code",
   "execution_count": null,
   "id": "9037e665",
   "metadata": {},
   "outputs": [],
   "source": []
  },
  {
   "cell_type": "code",
   "execution_count": null,
   "id": "e7474448",
   "metadata": {},
   "outputs": [],
   "source": []
  },
  {
   "cell_type": "code",
   "execution_count": null,
   "id": "7c129d96",
   "metadata": {},
   "outputs": [],
   "source": []
  },
  {
   "cell_type": "code",
   "execution_count": null,
   "id": "c3d9d49b",
   "metadata": {},
   "outputs": [],
   "source": []
  },
  {
   "cell_type": "code",
   "execution_count": null,
   "id": "b0f06573",
   "metadata": {},
   "outputs": [],
   "source": []
  },
  {
   "cell_type": "code",
   "execution_count": null,
   "id": "9b8d2a43",
   "metadata": {},
   "outputs": [],
   "source": []
  },
  {
   "cell_type": "markdown",
   "id": "9ddbaa1c",
   "metadata": {},
   "source": [
    "# Testing things"
   ]
  },
  {
   "cell_type": "code",
   "execution_count": null,
   "id": "37c59944",
   "metadata": {},
   "outputs": [],
   "source": []
  },
  {
   "cell_type": "code",
   "execution_count": null,
   "id": "1a075a3b",
   "metadata": {},
   "outputs": [],
   "source": []
  },
  {
   "cell_type": "code",
   "execution_count": null,
   "id": "848f106b",
   "metadata": {},
   "outputs": [],
   "source": []
  },
  {
   "cell_type": "code",
   "execution_count": null,
   "id": "112c626f",
   "metadata": {},
   "outputs": [],
   "source": []
  },
  {
   "cell_type": "code",
   "execution_count": null,
   "id": "e673dc03",
   "metadata": {},
   "outputs": [],
   "source": [
    "# print(loan_df['LoanAmount'].value_counts())\n",
    "\n",
    "counts = loan_df['LoanAmount'].value_counts().sort_values(ascending=False)\n",
    "# counts = loan_df['LoanAmount'].value_counts().sort_index()\n",
    "\n",
    "for val, cnt in counts.iteritems():\n",
    "    print(f\"{val}: {cnt}\")"
   ]
  },
  {
   "cell_type": "code",
   "execution_count": null,
   "id": "a02f462e",
   "metadata": {},
   "outputs": [],
   "source": [
    "loan_df['LoanAmount_log'].value_counts()"
   ]
  },
  {
   "cell_type": "code",
   "execution_count": null,
   "id": "10e83a4c",
   "metadata": {},
   "outputs": [],
   "source": [
    "loan_df['LoanAmount'].hist(bins=20) "
   ]
  },
  {
   "cell_type": "code",
   "execution_count": null,
   "id": "63e88c87",
   "metadata": {},
   "outputs": [],
   "source": [
    "loan_df['LoanAmount_log'] = np.log(loan_df['LoanAmount']) \n",
    "loan_df['LoanAmount_log'].hist(bins=20) "
   ]
  },
  {
   "cell_type": "code",
   "execution_count": null,
   "id": "8c5dab94",
   "metadata": {},
   "outputs": [],
   "source": []
  },
  {
   "cell_type": "code",
   "execution_count": null,
   "id": "f235757c",
   "metadata": {},
   "outputs": [],
   "source": [
    "sns.histplot(loan_df['ApplicantIncome'])\n",
    "plt.show()\n",
    "loan_df['ApplicantIncome'].plot.box(figsize=(16,5))\n",
    "plt.show()\n",
    "     "
   ]
  },
  {
   "cell_type": "code",
   "execution_count": null,
   "id": "38b95e08",
   "metadata": {},
   "outputs": [],
   "source": [
    "sns.histplot(loan_df['LoanAmount'])\n",
    "plt.show()\n",
    "loan_df['LoanAmount'].plot.box(figsize=(16,5))\n",
    "plt.show()\n",
    "     "
   ]
  },
  {
   "cell_type": "code",
   "execution_count": null,
   "id": "2a189439",
   "metadata": {},
   "outputs": [],
   "source": [
    "# print(X.corr())\n",
    "f, ax = plt.subplots(figsize=(22, 20))\n",
    "\n",
    "# plotting correlation heatmap\n",
    "dataplot = sns.heatmap(X.corr(), cmap=\"YlGnBu\", annot=True)\n",
    "\n",
    "# displaying heatmap\n",
    "plt.show()"
   ]
  },
  {
   "cell_type": "code",
   "execution_count": null,
   "id": "702815ea",
   "metadata": {},
   "outputs": [],
   "source": [
    "# X.columns = ['Gender','Married','Dependents','Education','Self_Employed','ApplicantIncome',\n",
    "#                    'CoapplicantIncome','LoanAmount','Loan_Amount_Term','Credit_History','Property_Area',\n",
    "#                    'Loan_Status']\n",
    "\n",
    "# Correlation between different variables\n",
    "corr = X.corr()\n",
    "\n",
    "# Set up the matplotlib plot configuration\n",
    "f, ax = plt.subplots(figsize=(12, 10))\n",
    "\n",
    "# Generate a mask for upper traingle\n",
    "mask = np.triu(np.ones_like(corr, dtype=bool))\n",
    "\n",
    "# Configure a custom diverging colormap\n",
    "cmap = sns.diverging_palette(230, 20, as_cmap=True)\n",
    "\n",
    "# Draw the heatmap\n",
    "sns.heatmap(corr, annot=True, mask = mask, cmap=cmap)"
   ]
  },
  {
   "cell_type": "code",
   "execution_count": null,
   "id": "1d802cc6",
   "metadata": {},
   "outputs": [],
   "source": [
    "from sklearn.metrics import classification_report\n",
    "\n",
    "# Preprocess the data\n",
    "X = loan_df[['LoanAmount', 'Loan_Amount_Term']]  # Extract the income feature\n",
    "y = loan_df['Loan_Status']  # Extract the loan status target variable\n",
    "\n",
    "# X = pd.get_dummies(X, drop_first=True)\n",
    "\n",
    "# Split the data into training and testing sets\n",
    "X_train, X_test, y_train, y_test = train_test_split(X, y, test_size=0.2, random_state=42)\n",
    "\n",
    "# Train the logistic regression model\n",
    "model = LogisticRegression()\n",
    "model.fit(X_train, y_train)\n",
    "\n",
    "# Predict loan status for the test set\n",
    "y_pred = model.predict(X_test)\n",
    "\n",
    "# Evaluate the model\n",
    "print(classification_report(y_test, y_pred))"
   ]
  },
  {
   "cell_type": "code",
   "execution_count": 9,
   "id": "cef05434",
   "metadata": {},
   "outputs": [
    {
     "name": "stdout",
     "output_type": "stream",
     "text": [
      "P-value for anova is :  0.907287812130378\n"
     ]
    }
   ],
   "source": [
    "CategoryGroupLists = loan_df.groupby('Loan_Status')['ApplicantIncome'].apply(list)\n",
    "AnnovaResults = f_oneway(*CategoryGroupLists)\n",
    "print('P-value for anova is : ', AnnovaResults[1])"
   ]
  },
  {
   "cell_type": "code",
   "execution_count": 14,
   "id": "88f7e719",
   "metadata": {},
   "outputs": [
    {
     "name": "stdout",
     "output_type": "stream",
     "text": [
      "F-statistic: 480.2368392788594\n",
      "p-value: 4.330702635909282e-90\n"
     ]
    }
   ],
   "source": [
    "loan_df.replace({'Loan_Status':{'N':0, 'Y':1}},inplace=True)\n",
    "\n",
    "group1 = loan_df['Loan_Status']\n",
    "group2 = loan_df['ApplicantIncome']\n",
    "\n",
    "f_statistic, p_value = f_oneway(group1, group2)\n",
    "\n",
    "# Print the results\n",
    "print(\"F-statistic:\", f_statistic)\n",
    "print(\"p-value:\", p_value)"
   ]
  },
  {
   "cell_type": "code",
   "execution_count": 32,
   "id": "2e86b2ca",
   "metadata": {},
   "outputs": [
    {
     "name": "stdout",
     "output_type": "stream",
     "text": [
      "Accuracy: 0.8020833333333334\n",
      "Precision: 0.7987421383647799\n",
      "Recall: 0.9548872180451128\n",
      "F1-Score: 0.8698630136986302\n",
      "Classification Report:\n",
      "               precision    recall  f1-score   support\n",
      "\n",
      "           N       0.82      0.46      0.59        59\n",
      "           Y       0.80      0.95      0.87       133\n",
      "\n",
      "    accuracy                           0.80       192\n",
      "   macro avg       0.81      0.71      0.73       192\n",
      "weighted avg       0.80      0.80      0.78       192\n",
      "\n"
     ]
    }
   ],
   "source": [
    "from sklearn.metrics import accuracy_score, precision_score, recall_score, f1_score, classification_report\n",
    "\n",
    "\n",
    "X = loan_df.drop('Loan_Status', axis=1)  # Features (excluding loan_status)\n",
    "y = loan_df['Loan_Status']  # Target variable\n",
    "\n",
    "X = pd.get_dummies(X, drop_first=True)\n",
    "# print(X.head(5))\n",
    "\n",
    "# Split the data into training and testing sets\n",
    "X_train, X_test, y_train, y_test = train_test_split(X, y, test_size=0.4, random_state=1)\n",
    "\n",
    "# Train the logistic regression model\n",
    "model = LogisticRegression()\n",
    "model.fit(X_train, y_train)\n",
    "\n",
    "# Predict loan status for the test set\n",
    "y_pred = model.predict(X_test)\n",
    "\n",
    "# Evaluate the model\n",
    "accuracy = accuracy_score(y_test, y_pred)\n",
    "precision = precision_score(y_test, y_pred, pos_label='Y')\n",
    "recall = recall_score(y_test, y_pred, pos_label='Y')\n",
    "f1 = f1_score(y_test, y_pred, pos_label='Y')\n",
    "classification_report = classification_report(y_test, y_pred)\n",
    "\n",
    "# Print the evaluation metrics\n",
    "print(\"Accuracy:\", accuracy)\n",
    "print(\"Precision:\", precision)\n",
    "print(\"Recall:\", recall)\n",
    "print(\"F1-Score:\", f1)\n",
    "print(\"Classification Report:\\n\", classification_report)\n",
    "\n",
    "# Precision : out of all the applicants the model predicted would get approved only 74% actually did\n",
    "# Recall : Out of all the applicants that actually got approved, the model only predicted this outcome \n",
    "#          correctly for 98%\n",
    "# F1 Score : The closer to 1 the better. The model did a good job if its closer to 1"
   ]
  },
  {
   "cell_type": "code",
   "execution_count": null,
   "id": "5110146e",
   "metadata": {},
   "outputs": [],
   "source": [
    "# FYI things for final project\n",
    "# Create a ppt\n",
    "    # Mention whats the prob\n",
    "    # what are we working on\n",
    "    # graphs\n",
    "    # normal presentation (voice over)\n",
    "# no need to submit the code\n"
   ]
  }
 ],
 "metadata": {
  "kernelspec": {
   "display_name": "Python 3 (ipykernel)",
   "language": "python",
   "name": "python3"
  },
  "language_info": {
   "codemirror_mode": {
    "name": "ipython",
    "version": 3
   },
   "file_extension": ".py",
   "mimetype": "text/x-python",
   "name": "python",
   "nbconvert_exporter": "python",
   "pygments_lexer": "ipython3",
   "version": "3.9.13"
  }
 },
 "nbformat": 4,
 "nbformat_minor": 5
}
